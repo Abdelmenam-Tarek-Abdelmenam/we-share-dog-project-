{
 "cells": [
  {
   "cell_type": "markdown",
   "metadata": {},
   "source": [
    "# we rate dogs project \n",
    "data wrangling process 'gather' , 'assess' , 'clean' "
   ]
  },
  {
   "cell_type": "code",
   "execution_count": 2,
   "metadata": {},
   "outputs": [],
   "source": [
    "# importing library \n",
    "\n",
    "import pandas as pd\n",
    "import numpy as nb\n",
    "import tweepy\n",
    "from tweepy import OAuthHandler\n",
    "import json\n",
    "from timeit import default_timer as timer\n",
    "import requests\n",
    "import matplotlib.pyplot as plt\n",
    "import seaborn as sns \n",
    "%matplotlib inline \n"
   ]
  },
  {
   "cell_type": "markdown",
   "metadata": {},
   "source": [
    "# data gathering \n",
    "1- twitter-archive-enhanced.csv  \"already uploded dowloded\"\n",
    "\n",
    "2- downlod by request - https://d17h27t6h515a5.cloudfront.net/topher/2017/August/599fd2ad_image-predictions/image-predictions.tsv 'image-predection\"\n",
    "3- 'tweet_json.txt'  "
   ]
  },
  {
   "cell_type": "code",
   "execution_count": 5,
   "metadata": {},
   "outputs": [],
   "source": [
    "# make a 'twitter-archive-enhanced.csv' data frame\n",
    "\n",
    "twitter_archive_enhanced_df = pd.read_csv('twitter-archive-enhanced.csv') "
   ]
  },
  {
   "cell_type": "code",
   "execution_count": 4,
   "metadata": {},
   "outputs": [],
   "source": [
    "# downlod 'image-predection\n",
    "file_url = 'https://d17h27t6h515a5.cloudfront.net/topher/2017/August/599fd2ad_image-predictions/image-predictions.tsv'\n",
    "r = requests.get(file_url)\n",
    "file_name = file_url.split('/')[-1]\n",
    "\n",
    "with open( file_name , 'wb') as f:\n",
    "    f.write(r.content)\n",
    "\n",
    "# make a 'twitter-archive-enhanced.csv' data frame\n",
    "image_predictions_df = pd.read_csv('image-predictions.tsv' , sep = '\\t')"
   ]
  },
  {
   "cell_type": "code",
   "execution_count": null,
   "metadata": {},
   "outputs": [],
   "source": [
    "# my api process code to prepare tweet_json.txt\n",
    "\n",
    "# Query Twitter API for each tweet in the Twitter archive and save JSON in a text file\n",
    "# These are hidden to comply with Twitter's API terms and conditions\n",
    "consumer_key = 'HIDDEN'\n",
    "consumer_secret = 'HIDDEN'\n",
    "access_token = 'HIDDEN'\n",
    "access_secret = 'HIDDEN'\n",
    "\n",
    "auth = OAuthHandler(consumer_key, consumer_secret)\n",
    "auth.set_access_token(access_token, access_secret)\n",
    "\n",
    "api = tweepy.API(auth, wait_on_rate_limit=True)\n",
    "\n",
    "# twitter_archive_enhanced_df is a DataFrame with the twitter_archive_enhanced.csv file. You may have to\n",
    "\n",
    "tweet_ids = twitter_archive_enhanced_df.tweet_id.values\n",
    "len(tweet_ids)\n",
    "\n",
    "# Query Twitter's API for JSON data for each tweet ID in the Twitter archive\n",
    "count = 0\n",
    "fails_dict = {}\n",
    "start = timer()\n",
    "# Save each tweet's returned JSON as a new line in a .txt file\n",
    "with open('tweet_json.txt', 'w') as outfile:\n",
    "    # This loop will likely take 20-30 minutes to run because of Twitter's rate limit\n",
    "    for tweet_id in tweet_ids:\n",
    "        count += 1\n",
    "        print(str(count) + \": \" + str(tweet_id))\n",
    "        try:\n",
    "            tweet = api.get_status(tweet_id, tweet_mode='extended')\n",
    "            print(\"Success\")\n",
    "            json.dump(tweet._json, outfile)\n",
    "            outfile.write('\\n')\n",
    "        except tweepy.TweepError as e:\n",
    "            print(\"Fail\")\n",
    "            fails_dict[tweet_id] = e\n",
    "            pass\n",
    "end = timer()\n",
    "print(end - start)\n",
    "print(fails_dict)"
   ]
  },
  {
   "cell_type": "markdown",
   "metadata": {},
   "source": [
    "##### extracting data from  'tweet_json.txt' to a tweets_information df\n",
    "    1- txt to json https://www.educative.io/edpresso/what-is-the-difference-between-jsonloads-and-jsondumps\n",
    "    2- extract object tweet ID, retweet count, and favorite count into a list of dictionaries.\n",
    "    3- make dataframe from list of dictionaries "
   ]
  },
  {
   "cell_type": "code",
   "execution_count": 6,
   "metadata": {},
   "outputs": [],
   "source": [
    "tweet_info_list = [] \n",
    "\n",
    "with open('tweet_json.txt', 'r') as tweets_file :\n",
    "    for tweet in tweets_file :\n",
    "        tweet_object = json.loads(tweet)\n",
    "        ID = tweet_object['id']\n",
    "        retweet_count = tweet_object['retweet_count']\n",
    "        favorite_count = tweet_object['favorite_count']\n",
    "        \n",
    "        tweet_info_list.append( { 'tweet_id' : ID ,\n",
    "                                  'retweet_count' : retweet_count ,\n",
    "                                  'favorite_count' : favorite_count \n",
    "                                })        \n",
    "\n",
    "tweets_information_df = pd.DataFrame( tweet_info_list ) "
   ]
  },
  {
   "cell_type": "markdown",
   "metadata": {},
   "source": [
    "## gathering is done ^^\n",
    "### now i have 3 data frames\n",
    "    - twitter_archive_enhanced_df\n",
    "    - image_predictions_df\n",
    "    - tweets_information_df"
   ]
  },
  {
   "cell_type": "markdown",
   "metadata": {},
   "source": [
    "# data assesing "
   ]
  },
  {
   "cell_type": "markdown",
   "metadata": {},
   "source": [
    "1-visual assesing .\n",
    "    i asses the data by excel too . "
   ]
  },
  {
   "cell_type": "markdown",
   "metadata": {},
   "source": [
    "###### twitter_archive_enhanced_df"
   ]
  },
  {
   "cell_type": "code",
   "execution_count": null,
   "metadata": {},
   "outputs": [],
   "source": [
    "twitter_archive_enhanced_df"
   ]
  },
  {
   "cell_type": "markdown",
   "metadata": {},
   "source": [
    "twitter_archive_enhanced_df notes :-\n",
    "\n",
    "quality :-\n",
    "    -there is nul values presented as NANE \n",
    "    - 'replay_to_status_id' and 'in_replay_to_user_id'  have many missing values\n",
    "    - 'source' has a html tag 'need to extract source only \n",
    "    - some weets text start with 'RT @dog_rates:'\n",
    "    - 'retweeted_status_id' and 'retweeted_status_user_id' have many missing values\n",
    "    -ther is a dogs named ['a' , 'quite' , 'General' ] which clearly not dogs name , there is missng names \n",
    "    -ther is missy url \n",
    "   - there is incorrect rating numerator and demenrator [ 960/0 ] , 11/15 , 24/7 , 9/11 , 165/150 ,... ]\n",
    "           --> some are true as i see the text \n",
    "   - incorrect posts as @docmisterio account started on 11/15/15\n",
    "   -ther is dogs with two dog state \n",
    "tidness :\n",
    "    - 1 variable in 4 column [ 'doggo' , 'floofer' , 'pupper' , 'puppo' ] \n",
    "   "
   ]
  },
  {
   "cell_type": "markdown",
   "metadata": {},
   "source": [
    "##### tweets_information_df"
   ]
  },
  {
   "cell_type": "code",
   "execution_count": null,
   "metadata": {},
   "outputs": [],
   "source": [
    " image_predictions_df"
   ]
  },
  {
   "cell_type": "markdown",
   "metadata": {},
   "source": [
    "##### tweets_information_df "
   ]
  },
  {
   "cell_type": "code",
   "execution_count": null,
   "metadata": {},
   "outputs": [],
   "source": [
    "tweets_information_df"
   ]
  },
  {
   "cell_type": "markdown",
   "metadata": {},
   "source": [
    "2-programatic assesing"
   ]
  },
  {
   "cell_type": "code",
   "execution_count": 8,
   "metadata": {},
   "outputs": [
    {
     "name": "stdout",
     "output_type": "stream",
     "text": [
      "the number of column in twitter_archive_enhanced_df is 2356 and the number of raw is 17\n",
      "the number of column in image_predictions_df is 2075 and the number of raw is 12\n",
      "the number of column in tweets_information_df is 2354 and the number of raw is 3\n"
     ]
    }
   ],
   "source": [
    "# knowing the shape of every data frame \n",
    "print('the number of column in twitter_archive_enhanced_df is {} and the number of raw is {}'.format(twitter_archive_enhanced_df.shape[0],twitter_archive_enhanced_df.shape[1] ))\n",
    "print('the number of column in image_predictions_df is {} and the number of raw is {}'.format(image_predictions_df.shape[0],image_predictions_df.shape[1] ))\n",
    "print( 'the number of column in tweets_information_df is {} and the number of raw is {}'.format(tweets_information_df.shape[0],tweets_information_df.shape[1] ))"
   ]
  },
  {
   "cell_type": "markdown",
   "metadata": {},
   "source": [
    "##### note -> number of raw is not the same in the 3 data there is missing records in image prediction and tweets information  "
   ]
  },
  {
   "cell_type": "code",
   "execution_count": 9,
   "metadata": {},
   "outputs": [
    {
     "data": {
      "text/html": [
       "<div>\n",
       "<style scoped>\n",
       "    .dataframe tbody tr th:only-of-type {\n",
       "        vertical-align: middle;\n",
       "    }\n",
       "\n",
       "    .dataframe tbody tr th {\n",
       "        vertical-align: top;\n",
       "    }\n",
       "\n",
       "    .dataframe thead th {\n",
       "        text-align: right;\n",
       "    }\n",
       "</style>\n",
       "<table border=\"1\" class=\"dataframe\">\n",
       "  <thead>\n",
       "    <tr style=\"text-align: right;\">\n",
       "      <th></th>\n",
       "      <th>tweet_id</th>\n",
       "      <th>in_reply_to_status_id</th>\n",
       "      <th>in_reply_to_user_id</th>\n",
       "      <th>timestamp</th>\n",
       "      <th>source</th>\n",
       "      <th>text</th>\n",
       "      <th>retweeted_status_id</th>\n",
       "      <th>retweeted_status_user_id</th>\n",
       "      <th>retweeted_status_timestamp</th>\n",
       "      <th>expanded_urls</th>\n",
       "      <th>rating_numerator</th>\n",
       "      <th>rating_denominator</th>\n",
       "      <th>name</th>\n",
       "      <th>doggo</th>\n",
       "      <th>floofer</th>\n",
       "      <th>pupper</th>\n",
       "      <th>puppo</th>\n",
       "    </tr>\n",
       "  </thead>\n",
       "  <tbody>\n",
       "    <tr>\n",
       "      <th>0</th>\n",
       "      <td>892420643555336193</td>\n",
       "      <td>NaN</td>\n",
       "      <td>NaN</td>\n",
       "      <td>2017-08-01 16:23:56 +0000</td>\n",
       "      <td>&lt;a href=\"http://twitter.com/download/iphone\" r...</td>\n",
       "      <td>This is Phineas. He's a mystical boy. Only eve...</td>\n",
       "      <td>NaN</td>\n",
       "      <td>NaN</td>\n",
       "      <td>NaN</td>\n",
       "      <td>https://twitter.com/dog_rates/status/892420643...</td>\n",
       "      <td>13</td>\n",
       "      <td>10</td>\n",
       "      <td>Phineas</td>\n",
       "      <td>None</td>\n",
       "      <td>None</td>\n",
       "      <td>None</td>\n",
       "      <td>None</td>\n",
       "    </tr>\n",
       "  </tbody>\n",
       "</table>\n",
       "</div>"
      ],
      "text/plain": [
       "             tweet_id  in_reply_to_status_id  in_reply_to_user_id  \\\n",
       "0  892420643555336193                    NaN                  NaN   \n",
       "\n",
       "                   timestamp  \\\n",
       "0  2017-08-01 16:23:56 +0000   \n",
       "\n",
       "                                              source  \\\n",
       "0  <a href=\"http://twitter.com/download/iphone\" r...   \n",
       "\n",
       "                                                text  retweeted_status_id  \\\n",
       "0  This is Phineas. He's a mystical boy. Only eve...                  NaN   \n",
       "\n",
       "   retweeted_status_user_id retweeted_status_timestamp  \\\n",
       "0                       NaN                        NaN   \n",
       "\n",
       "                                       expanded_urls  rating_numerator  \\\n",
       "0  https://twitter.com/dog_rates/status/892420643...                13   \n",
       "\n",
       "   rating_denominator     name doggo floofer pupper puppo  \n",
       "0                  10  Phineas  None    None   None  None  "
      ]
     },
     "execution_count": 9,
     "metadata": {},
     "output_type": "execute_result"
    }
   ],
   "source": [
    "#see info for data types \n",
    "twitter_archive_enhanced_df.head(1) # to see a sample data to judge data types"
   ]
  },
  {
   "cell_type": "code",
   "execution_count": 10,
   "metadata": {},
   "outputs": [
    {
     "name": "stdout",
     "output_type": "stream",
     "text": [
      "<class 'pandas.core.frame.DataFrame'>\n",
      "RangeIndex: 2356 entries, 0 to 2355\n",
      "Data columns (total 17 columns):\n",
      "tweet_id                      2356 non-null int64\n",
      "in_reply_to_status_id         78 non-null float64\n",
      "in_reply_to_user_id           78 non-null float64\n",
      "timestamp                     2356 non-null object\n",
      "source                        2356 non-null object\n",
      "text                          2356 non-null object\n",
      "retweeted_status_id           181 non-null float64\n",
      "retweeted_status_user_id      181 non-null float64\n",
      "retweeted_status_timestamp    181 non-null object\n",
      "expanded_urls                 2297 non-null object\n",
      "rating_numerator              2356 non-null int64\n",
      "rating_denominator            2356 non-null int64\n",
      "name                          2356 non-null object\n",
      "doggo                         2356 non-null object\n",
      "floofer                       2356 non-null object\n",
      "pupper                        2356 non-null object\n",
      "puppo                         2356 non-null object\n",
      "dtypes: float64(4), int64(3), object(10)\n",
      "memory usage: 313.0+ KB\n"
     ]
    }
   ],
   "source": [
    "twitter_archive_enhanced_df.info()"
   ]
  },
  {
   "cell_type": "code",
   "execution_count": 11,
   "metadata": {},
   "outputs": [
    {
     "data": {
      "text/html": [
       "<div>\n",
       "<style scoped>\n",
       "    .dataframe tbody tr th:only-of-type {\n",
       "        vertical-align: middle;\n",
       "    }\n",
       "\n",
       "    .dataframe tbody tr th {\n",
       "        vertical-align: top;\n",
       "    }\n",
       "\n",
       "    .dataframe thead th {\n",
       "        text-align: right;\n",
       "    }\n",
       "</style>\n",
       "<table border=\"1\" class=\"dataframe\">\n",
       "  <thead>\n",
       "    <tr style=\"text-align: right;\">\n",
       "      <th></th>\n",
       "      <th>tweet_id</th>\n",
       "      <th>jpg_url</th>\n",
       "      <th>img_num</th>\n",
       "      <th>p1</th>\n",
       "      <th>p1_conf</th>\n",
       "      <th>p1_dog</th>\n",
       "      <th>p2</th>\n",
       "      <th>p2_conf</th>\n",
       "      <th>p2_dog</th>\n",
       "      <th>p3</th>\n",
       "      <th>p3_conf</th>\n",
       "      <th>p3_dog</th>\n",
       "    </tr>\n",
       "  </thead>\n",
       "  <tbody>\n",
       "    <tr>\n",
       "      <th>0</th>\n",
       "      <td>666020888022790149</td>\n",
       "      <td>https://pbs.twimg.com/media/CT4udn0WwAA0aMy.jpg</td>\n",
       "      <td>1</td>\n",
       "      <td>Welsh_springer_spaniel</td>\n",
       "      <td>0.465074</td>\n",
       "      <td>True</td>\n",
       "      <td>collie</td>\n",
       "      <td>0.156665</td>\n",
       "      <td>True</td>\n",
       "      <td>Shetland_sheepdog</td>\n",
       "      <td>0.061428</td>\n",
       "      <td>True</td>\n",
       "    </tr>\n",
       "  </tbody>\n",
       "</table>\n",
       "</div>"
      ],
      "text/plain": [
       "             tweet_id                                          jpg_url  \\\n",
       "0  666020888022790149  https://pbs.twimg.com/media/CT4udn0WwAA0aMy.jpg   \n",
       "\n",
       "   img_num                      p1   p1_conf  p1_dog      p2   p2_conf  \\\n",
       "0        1  Welsh_springer_spaniel  0.465074    True  collie  0.156665   \n",
       "\n",
       "   p2_dog                 p3   p3_conf  p3_dog  \n",
       "0    True  Shetland_sheepdog  0.061428    True  "
      ]
     },
     "execution_count": 11,
     "metadata": {},
     "output_type": "execute_result"
    }
   ],
   "source": [
    "image_predictions_df.head(1)"
   ]
  },
  {
   "cell_type": "code",
   "execution_count": 12,
   "metadata": {},
   "outputs": [
    {
     "name": "stdout",
     "output_type": "stream",
     "text": [
      "<class 'pandas.core.frame.DataFrame'>\n",
      "RangeIndex: 2075 entries, 0 to 2074\n",
      "Data columns (total 12 columns):\n",
      "tweet_id    2075 non-null int64\n",
      "jpg_url     2075 non-null object\n",
      "img_num     2075 non-null int64\n",
      "p1          2075 non-null object\n",
      "p1_conf     2075 non-null float64\n",
      "p1_dog      2075 non-null bool\n",
      "p2          2075 non-null object\n",
      "p2_conf     2075 non-null float64\n",
      "p2_dog      2075 non-null bool\n",
      "p3          2075 non-null object\n",
      "p3_conf     2075 non-null float64\n",
      "p3_dog      2075 non-null bool\n",
      "dtypes: bool(3), float64(3), int64(2), object(4)\n",
      "memory usage: 152.1+ KB\n"
     ]
    }
   ],
   "source": [
    "image_predictions_df.info()"
   ]
  },
  {
   "cell_type": "code",
   "execution_count": 13,
   "metadata": {},
   "outputs": [
    {
     "data": {
      "text/html": [
       "<div>\n",
       "<style scoped>\n",
       "    .dataframe tbody tr th:only-of-type {\n",
       "        vertical-align: middle;\n",
       "    }\n",
       "\n",
       "    .dataframe tbody tr th {\n",
       "        vertical-align: top;\n",
       "    }\n",
       "\n",
       "    .dataframe thead th {\n",
       "        text-align: right;\n",
       "    }\n",
       "</style>\n",
       "<table border=\"1\" class=\"dataframe\">\n",
       "  <thead>\n",
       "    <tr style=\"text-align: right;\">\n",
       "      <th></th>\n",
       "      <th>favorite_count</th>\n",
       "      <th>retweet_count</th>\n",
       "      <th>tweet_id</th>\n",
       "    </tr>\n",
       "  </thead>\n",
       "  <tbody>\n",
       "    <tr>\n",
       "      <th>0</th>\n",
       "      <td>39467</td>\n",
       "      <td>8853</td>\n",
       "      <td>892420643555336193</td>\n",
       "    </tr>\n",
       "  </tbody>\n",
       "</table>\n",
       "</div>"
      ],
      "text/plain": [
       "   favorite_count  retweet_count            tweet_id\n",
       "0           39467           8853  892420643555336193"
      ]
     },
     "execution_count": 13,
     "metadata": {},
     "output_type": "execute_result"
    }
   ],
   "source": [
    "tweets_information_df.head(1)"
   ]
  },
  {
   "cell_type": "code",
   "execution_count": 14,
   "metadata": {},
   "outputs": [
    {
     "name": "stdout",
     "output_type": "stream",
     "text": [
      "<class 'pandas.core.frame.DataFrame'>\n",
      "RangeIndex: 2354 entries, 0 to 2353\n",
      "Data columns (total 3 columns):\n",
      "favorite_count    2354 non-null int64\n",
      "retweet_count     2354 non-null int64\n",
      "tweet_id          2354 non-null int64\n",
      "dtypes: int64(3)\n",
      "memory usage: 55.2 KB\n"
     ]
    }
   ],
   "source": [
    "tweets_information_df.info()"
   ]
  },
  {
   "cell_type": "markdown",
   "metadata": {},
   "source": [
    "twitter_archive_enhanced_df data types problems :-\n",
    "\n",
    "   1- [weet_id ,in_reply_to_status_id ,in_reply_to_user_id ,retweeted_status_id retweeted_status_user_id ] is numbers->string \n",
    "   \n",
    "   2- timestamp is object --> date formate\n",
    "   \n",
    "   3- 'doggo' , 'floofer' , 'pupper' , 'puppo' is object --> boolean\n",
    "    \n",
    " image_predictions_df data types problem :-\n",
    "     \n",
    "     1- id is int -> string \n",
    " tweets_information_df data type information :- \n",
    "     \n",
    "     1- id is in -> string "
   ]
  },
  {
   "cell_type": "code",
   "execution_count": 15,
   "metadata": {
    "scrolled": false
   },
   "outputs": [
    {
     "data": {
      "text/html": [
       "<div>\n",
       "<style scoped>\n",
       "    .dataframe tbody tr th:only-of-type {\n",
       "        vertical-align: middle;\n",
       "    }\n",
       "\n",
       "    .dataframe tbody tr th {\n",
       "        vertical-align: top;\n",
       "    }\n",
       "\n",
       "    .dataframe thead th {\n",
       "        text-align: right;\n",
       "    }\n",
       "</style>\n",
       "<table border=\"1\" class=\"dataframe\">\n",
       "  <thead>\n",
       "    <tr style=\"text-align: right;\">\n",
       "      <th></th>\n",
       "      <th>rating_numerator</th>\n",
       "      <th>rating_denominator</th>\n",
       "    </tr>\n",
       "  </thead>\n",
       "  <tbody>\n",
       "    <tr>\n",
       "      <th>count</th>\n",
       "      <td>2356.000000</td>\n",
       "      <td>2356.000000</td>\n",
       "    </tr>\n",
       "    <tr>\n",
       "      <th>mean</th>\n",
       "      <td>13.126486</td>\n",
       "      <td>10.455433</td>\n",
       "    </tr>\n",
       "    <tr>\n",
       "      <th>std</th>\n",
       "      <td>45.876648</td>\n",
       "      <td>6.745237</td>\n",
       "    </tr>\n",
       "    <tr>\n",
       "      <th>min</th>\n",
       "      <td>0.000000</td>\n",
       "      <td>0.000000</td>\n",
       "    </tr>\n",
       "    <tr>\n",
       "      <th>25%</th>\n",
       "      <td>10.000000</td>\n",
       "      <td>10.000000</td>\n",
       "    </tr>\n",
       "    <tr>\n",
       "      <th>50%</th>\n",
       "      <td>11.000000</td>\n",
       "      <td>10.000000</td>\n",
       "    </tr>\n",
       "    <tr>\n",
       "      <th>75%</th>\n",
       "      <td>12.000000</td>\n",
       "      <td>10.000000</td>\n",
       "    </tr>\n",
       "    <tr>\n",
       "      <th>max</th>\n",
       "      <td>1776.000000</td>\n",
       "      <td>170.000000</td>\n",
       "    </tr>\n",
       "  </tbody>\n",
       "</table>\n",
       "</div>"
      ],
      "text/plain": [
       "       rating_numerator  rating_denominator\n",
       "count       2356.000000         2356.000000\n",
       "mean          13.126486           10.455433\n",
       "std           45.876648            6.745237\n",
       "min            0.000000            0.000000\n",
       "25%           10.000000           10.000000\n",
       "50%           11.000000           10.000000\n",
       "75%           12.000000           10.000000\n",
       "max         1776.000000          170.000000"
      ]
     },
     "execution_count": 15,
     "metadata": {},
     "output_type": "execute_result"
    }
   ],
   "source": [
    "twitter_archive_enhanced_df[['rating_numerator' , 'rating_denominator']].describe()"
   ]
  },
  {
   "cell_type": "markdown",
   "metadata": {},
   "source": [
    "    - demenrator can't equal to 0 or bigger thn 10  .\n",
    "    - numerator > 20 --> i see the original tweets and undersatnd that this number is in the case of group o dogs    "
   ]
  },
  {
   "cell_type": "code",
   "execution_count": 16,
   "metadata": {},
   "outputs": [
    {
     "data": {
      "text/plain": [
       "10     2333\n",
       "11        3\n",
       "50        3\n",
       "80        2\n",
       "20        2\n",
       "2         1\n",
       "16        1\n",
       "40        1\n",
       "70        1\n",
       "15        1\n",
       "90        1\n",
       "110       1\n",
       "120       1\n",
       "130       1\n",
       "150       1\n",
       "170       1\n",
       "7         1\n",
       "0         1\n",
       "Name: rating_denominator, dtype: int64"
      ]
     },
     "execution_count": 16,
     "metadata": {},
     "output_type": "execute_result"
    }
   ],
   "source": [
    "twitter_archive_enhanced_df['rating_denominator'].value_counts()"
   ]
  },
  {
   "cell_type": "code",
   "execution_count": 17,
   "metadata": {},
   "outputs": [
    {
     "data": {
      "text/plain": [
       "420     2\n",
       "75      2\n",
       "60      1\n",
       "27      1\n",
       "99      1\n",
       "165     1\n",
       "80      1\n",
       "144     1\n",
       "204     1\n",
       "45      1\n",
       "88      1\n",
       "143     1\n",
       "1776    1\n",
       "44      1\n",
       "50      1\n",
       "26      1\n",
       "84      1\n",
       "182     1\n",
       "24      1\n",
       "121     1\n",
       "666     1\n",
       "960     1\n",
       "Name: rating_numerator, dtype: int64"
      ]
     },
     "execution_count": 17,
     "metadata": {},
     "output_type": "execute_result"
    }
   ],
   "source": [
    "twitter_archive_enhanced_df[twitter_archive_enhanced_df['rating_numerator'] > 20]['rating_numerator'].value_counts()"
   ]
  },
  {
   "cell_type": "code",
   "execution_count": 18,
   "metadata": {},
   "outputs": [
    {
     "data": {
      "text/html": [
       "<div>\n",
       "<style scoped>\n",
       "    .dataframe tbody tr th:only-of-type {\n",
       "        vertical-align: middle;\n",
       "    }\n",
       "\n",
       "    .dataframe tbody tr th {\n",
       "        vertical-align: top;\n",
       "    }\n",
       "\n",
       "    .dataframe thead th {\n",
       "        text-align: right;\n",
       "    }\n",
       "</style>\n",
       "<table border=\"1\" class=\"dataframe\">\n",
       "  <thead>\n",
       "    <tr style=\"text-align: right;\">\n",
       "      <th></th>\n",
       "      <th>favorite_count</th>\n",
       "      <th>retweet_count</th>\n",
       "    </tr>\n",
       "  </thead>\n",
       "  <tbody>\n",
       "    <tr>\n",
       "      <th>count</th>\n",
       "      <td>2354.000000</td>\n",
       "      <td>2354.000000</td>\n",
       "    </tr>\n",
       "    <tr>\n",
       "      <th>mean</th>\n",
       "      <td>8080.968564</td>\n",
       "      <td>3164.797366</td>\n",
       "    </tr>\n",
       "    <tr>\n",
       "      <th>std</th>\n",
       "      <td>11814.771334</td>\n",
       "      <td>5284.770364</td>\n",
       "    </tr>\n",
       "    <tr>\n",
       "      <th>min</th>\n",
       "      <td>0.000000</td>\n",
       "      <td>0.000000</td>\n",
       "    </tr>\n",
       "    <tr>\n",
       "      <th>25%</th>\n",
       "      <td>1415.000000</td>\n",
       "      <td>624.500000</td>\n",
       "    </tr>\n",
       "    <tr>\n",
       "      <th>50%</th>\n",
       "      <td>3603.500000</td>\n",
       "      <td>1473.500000</td>\n",
       "    </tr>\n",
       "    <tr>\n",
       "      <th>75%</th>\n",
       "      <td>10122.250000</td>\n",
       "      <td>3652.000000</td>\n",
       "    </tr>\n",
       "    <tr>\n",
       "      <th>max</th>\n",
       "      <td>132810.000000</td>\n",
       "      <td>79515.000000</td>\n",
       "    </tr>\n",
       "  </tbody>\n",
       "</table>\n",
       "</div>"
      ],
      "text/plain": [
       "       favorite_count  retweet_count\n",
       "count     2354.000000    2354.000000\n",
       "mean      8080.968564    3164.797366\n",
       "std      11814.771334    5284.770364\n",
       "min          0.000000       0.000000\n",
       "25%       1415.000000     624.500000\n",
       "50%       3603.500000    1473.500000\n",
       "75%      10122.250000    3652.000000\n",
       "max     132810.000000   79515.000000"
      ]
     },
     "execution_count": 18,
     "metadata": {},
     "output_type": "execute_result"
    }
   ],
   "source": [
    "image_predictions_df.describe()\n",
    "tweets_information_df[['favorite_count' , 'retweet_count']].describe( )"
   ]
  },
  {
   "cell_type": "markdown",
   "metadata": {},
   "source": [
    "i see no problem in image prediction statistics\n",
    "favoritecount and  retweet = 0 do't make sense "
   ]
  },
  {
   "cell_type": "code",
   "execution_count": 19,
   "metadata": {
    "scrolled": true
   },
   "outputs": [
    {
     "name": "stdout",
     "output_type": "stream",
     "text": [
      "ther is 1 tweets that have 0 retweet\n",
      "ther is 179 tweets that have 0 favorite_count\n"
     ]
    }
   ],
   "source": [
    "print('ther is {} tweets that have 0 retweet'\n",
    "       .format(tweets_information_df[ tweets_information_df['retweet_count']==0].count()[1]))\n",
    "print( 'ther is {} tweets that have 0 favorite_count'\n",
    "        .format(tweets_information_df[ tweets_information_df['favorite_count']==0].count()[1] ))"
   ]
  },
  {
   "cell_type": "code",
   "execution_count": 20,
   "metadata": {},
   "outputs": [
    {
     "name": "stdout",
     "output_type": "stream",
     "text": [
      "number of duplicated raws in tweets_information_df is : 0\n",
      "number of duplicated raws in image_predictions_df is : 0\n",
      "number of duplicated raws in tweets_information_df is : 0\n"
     ]
    }
   ],
   "source": [
    "# check duplicated itens \n",
    "\n",
    "print('number of duplicated raws in tweets_information_df is :',twitter_archive_enhanced_df.duplicated().sum())\n",
    "print('number of duplicated raws in image_predictions_df is :',image_predictions_df.duplicated().sum())\n",
    "print('number of duplicated raws in tweets_information_df is :',tweets_information_df.duplicated().sum())"
   ]
  },
  {
   "cell_type": "code",
   "execution_count": 21,
   "metadata": {},
   "outputs": [
    {
     "data": {
      "text/plain": [
       "tweet_id                         0\n",
       "in_reply_to_status_id         2278\n",
       "in_reply_to_user_id           2278\n",
       "timestamp                        0\n",
       "source                           0\n",
       "text                             0\n",
       "retweeted_status_id           2175\n",
       "retweeted_status_user_id      2175\n",
       "retweeted_status_timestamp    2175\n",
       "expanded_urls                   59\n",
       "rating_numerator                 0\n",
       "rating_denominator               0\n",
       "name                             0\n",
       "doggo                            0\n",
       "floofer                          0\n",
       "pupper                           0\n",
       "puppo                            0\n",
       "dtype: int64"
      ]
     },
     "execution_count": 21,
     "metadata": {},
     "output_type": "execute_result"
    }
   ],
   "source": [
    "# checking the null values \n",
    "\n",
    "twitter_archive_enhanced_df.isnull().sum()"
   ]
  },
  {
   "cell_type": "code",
   "execution_count": 22,
   "metadata": {},
   "outputs": [
    {
     "data": {
      "text/plain": [
       "tweet_id    0\n",
       "jpg_url     0\n",
       "img_num     0\n",
       "p1          0\n",
       "p1_conf     0\n",
       "p1_dog      0\n",
       "p2          0\n",
       "p2_conf     0\n",
       "p2_dog      0\n",
       "p3          0\n",
       "p3_conf     0\n",
       "p3_dog      0\n",
       "dtype: int64"
      ]
     },
     "execution_count": 22,
     "metadata": {},
     "output_type": "execute_result"
    }
   ],
   "source": [
    "image_predictions_df.isnull().sum()"
   ]
  },
  {
   "cell_type": "code",
   "execution_count": 23,
   "metadata": {},
   "outputs": [
    {
     "data": {
      "text/plain": [
       "favorite_count    0\n",
       "retweet_count     0\n",
       "tweet_id          0\n",
       "dtype: int64"
      ]
     },
     "execution_count": 23,
     "metadata": {},
     "output_type": "execute_result"
    }
   ],
   "source": [
    "tweets_information_df.isnull().sum()"
   ]
  },
  {
   "cell_type": "code",
   "execution_count": 24,
   "metadata": {},
   "outputs": [
    {
     "name": "stdout",
     "output_type": "stream",
     "text": [
      "['None' 'doggo']\n",
      "['None' 'floofer']\n",
      "['None' 'pupper']\n",
      "['None' 'puppo']\n"
     ]
    }
   ],
   "source": [
    "print(twitter_archive_enhanced_df['doggo'].unique())  # no problems\n",
    "print(twitter_archive_enhanced_df['floofer'].unique())  # no problems\n",
    "print(twitter_archive_enhanced_df['pupper'].unique())  # no problems\n",
    "print(twitter_archive_enhanced_df['puppo'].unique())  # no problems\n",
    "\n"
   ]
  },
  {
   "cell_type": "markdown",
   "metadata": {},
   "source": [
    "# assesing is done ^^"
   ]
  },
  {
   "cell_type": "markdown",
   "metadata": {},
   "source": [
    "### isuues documentation"
   ]
  },
  {
   "cell_type": "markdown",
   "metadata": {},
   "source": [
    "### quality isuues \n",
    "##### twitter_archive_enhanced_df \n",
    "    1- wrong data types :\n",
    "            1- any column describe an ID should br string string\n",
    "            2- timestamp should be at  date formate\n",
    "            3- 'doggo' , 'floofer' , 'pupper' , 'puppo' should be boolean\n",
    "                    \n",
    "    2- 'source' column has the tag apear in it \n",
    "            '<a href=\"http://twitter.com/download/iphone\" rel=\"nofollow\">Twitter for iPhone</a>'\n",
    "              should be \"http://twitter.com/download/iphone\" \n",
    "    \n",
    "    3- many null values in 'in_reply_to_status_id' ,'in_reply_to_user_id' ,'retweeted_status_id' ,'retweeted_status_user_id' ,                 'retweeted_status_timestamp', 'expanded_urls' \n",
    "   \n",
    "    4- invalid dog names.\n",
    "    5-invalid rating_numerator and rating_denominator \n",
    "    6-there many issues in tweet text \"check the pdf\"\n",
    "    7- wrrong presentation od NULL in name column\n",
    "    8- there is unneeded column \n",
    "\n",
    "    \n",
    "##### image_prediction_df \n",
    "    1- wrong ID data type , it should be string\n",
    "    2- in image_prediction_df (p1, p2 and p3) aren't descriptive names  \n",
    "\n",
    "\n",
    "##### tweets_information_df \n",
    "    1- wrong ID data type , it should be string"
   ]
  },
  {
   "cell_type": "markdown",
   "metadata": {},
   "source": [
    "### tidness isuues \n",
    "    1-  in twitter_archive_enhancment 1 variable in 4 column [ 'doggo' , 'floofer' , 'pupper' , 'puppo' ] \n",
    "\n",
    "    2-  data in 3 seperate tables\n",
    "    \n",
    "   \n",
    "there is missing record in twitter_predection  and tweets_information "
   ]
  },
  {
   "cell_type": "markdown",
   "metadata": {},
   "source": [
    "# data cleaning "
   ]
  },
  {
   "cell_type": "code",
   "execution_count": 25,
   "metadata": {},
   "outputs": [],
   "source": [
    "#make copies for cleaning \n",
    "twitter_archive_enhanced_clean_df = twitter_archive_enhanced_df.copy() \n",
    "image_predictions_clean_df = image_predictions_df.copy()\n",
    "tweets_information_clean_df = tweets_information_df.copy()"
   ]
  },
  {
   "cell_type": "markdown",
   "metadata": {},
   "source": [
    " ### quality issues"
   ]
  },
  {
   "cell_type": "markdown",
   "metadata": {},
   "source": [
    "### define\n",
    "    - convert  [tweet_id ] to string"
   ]
  },
  {
   "cell_type": "code",
   "execution_count": 26,
   "metadata": {
    "scrolled": true
   },
   "outputs": [
    {
     "data": {
      "text/plain": [
       "dtype('int64')"
      ]
     },
     "execution_count": 26,
     "metadata": {},
     "output_type": "execute_result"
    }
   ],
   "source": [
    "twitter_archive_enhanced_clean_df['tweet_id'].dtype"
   ]
  },
  {
   "cell_type": "markdown",
   "metadata": {},
   "source": [
    "##### code"
   ]
  },
  {
   "cell_type": "code",
   "execution_count": 27,
   "metadata": {},
   "outputs": [],
   "source": [
    "twitter_archive_enhanced_clean_df['tweet_id'] = twitter_archive_enhanced_clean_df['tweet_id'].astype(str)"
   ]
  },
  {
   "cell_type": "markdown",
   "metadata": {},
   "source": [
    "##### test "
   ]
  },
  {
   "cell_type": "code",
   "execution_count": 28,
   "metadata": {},
   "outputs": [
    {
     "data": {
      "text/plain": [
       "dtype('O')"
      ]
     },
     "execution_count": 28,
     "metadata": {},
     "output_type": "execute_result"
    }
   ],
   "source": [
    "\n",
    "twitter_archive_enhanced_clean_df['tweet_id'].dtype"
   ]
  },
  {
   "cell_type": "markdown",
   "metadata": {},
   "source": [
    "### define"
   ]
  },
  {
   "cell_type": "code",
   "execution_count": 29,
   "metadata": {},
   "outputs": [
    {
     "name": "stdout",
     "output_type": "stream",
     "text": [
      "0\n",
      "745\n"
     ]
    }
   ],
   "source": [
    "# define change nane to null value in names\n",
    "print(twitter_archive_enhanced_clean_df['name'].isnull().sum())\n",
    "\n",
    "#code \n",
    "twitter_archive_enhanced_clean_df['name'].replace( 'None' , nb.nan , inplace= True )\n",
    "\n",
    "#test\n",
    "print(twitter_archive_enhanced_clean_df['name'].isnull().sum())\n"
   ]
  },
  {
   "cell_type": "markdown",
   "metadata": {},
   "source": [
    "### define\n",
    "    -convert timestamp to date format "
   ]
  },
  {
   "cell_type": "code",
   "execution_count": 30,
   "metadata": {},
   "outputs": [
    {
     "data": {
      "text/plain": [
       "dtype('O')"
      ]
     },
     "execution_count": 30,
     "metadata": {},
     "output_type": "execute_result"
    }
   ],
   "source": [
    "twitter_archive_enhanced_clean_df['timestamp'].dtype"
   ]
  },
  {
   "cell_type": "markdown",
   "metadata": {},
   "source": [
    "##### code"
   ]
  },
  {
   "cell_type": "code",
   "execution_count": 31,
   "metadata": {},
   "outputs": [],
   "source": [
    "twitter_archive_enhanced_clean_df['timestamp'] = pd.to_datetime( twitter_archive_enhanced_clean_df['timestamp'])"
   ]
  },
  {
   "cell_type": "markdown",
   "metadata": {},
   "source": [
    "##### test "
   ]
  },
  {
   "cell_type": "code",
   "execution_count": 32,
   "metadata": {},
   "outputs": [
    {
     "data": {
      "text/plain": [
       "dtype('<M8[ns]')"
      ]
     },
     "execution_count": 32,
     "metadata": {},
     "output_type": "execute_result"
    }
   ],
   "source": [
    "twitter_archive_enhanced_clean_df['timestamp'].dtype"
   ]
  },
  {
   "cell_type": "markdown",
   "metadata": {},
   "source": [
    "### define\n",
    "    - remove html tag from source column"
   ]
  },
  {
   "cell_type": "code",
   "execution_count": 33,
   "metadata": {},
   "outputs": [
    {
     "data": {
      "text/plain": [
       "array([ '<a href=\"http://twitter.com/download/iphone\" rel=\"nofollow\">Twitter for iPhone</a>',\n",
       "       '<a href=\"http://twitter.com\" rel=\"nofollow\">Twitter Web Client</a>',\n",
       "       '<a href=\"http://vine.co\" rel=\"nofollow\">Vine - Make a Scene</a>',\n",
       "       '<a href=\"https://about.twitter.com/products/tweetdeck\" rel=\"nofollow\">TweetDeck</a>'], dtype=object)"
      ]
     },
     "execution_count": 33,
     "metadata": {},
     "output_type": "execute_result"
    }
   ],
   "source": [
    "twitter_archive_enhanced_clean_df['source'].unique()"
   ]
  },
  {
   "cell_type": "markdown",
   "metadata": {},
   "source": [
    "##### code"
   ]
  },
  {
   "cell_type": "code",
   "execution_count": 34,
   "metadata": {},
   "outputs": [],
   "source": [
    "modified_source = [] \n",
    "\n",
    "try :\n",
    "    for source in twitter_archive_enhanced_clean_df['source'] :\n",
    "        modified_source.append(source.split('\"')[1])\n",
    "    twitter_archive_enhanced_clean_df['source'] = modified_source\n",
    "except :\n",
    "    print('already deleted')"
   ]
  },
  {
   "cell_type": "markdown",
   "metadata": {},
   "source": [
    "##### test"
   ]
  },
  {
   "cell_type": "code",
   "execution_count": 35,
   "metadata": {},
   "outputs": [
    {
     "data": {
      "text/plain": [
       "array(['http://twitter.com/download/iphone', 'http://twitter.com',\n",
       "       'http://vine.co', 'https://about.twitter.com/products/tweetdeck'], dtype=object)"
      ]
     },
     "execution_count": 35,
     "metadata": {},
     "output_type": "execute_result"
    }
   ],
   "source": [
    "twitter_archive_enhanced_clean_df['source'].unique()"
   ]
  },
  {
   "cell_type": "markdown",
   "metadata": {},
   "source": [
    "### define\n",
    "    - remove all column that have many null values"
   ]
  },
  {
   "cell_type": "code",
   "execution_count": 36,
   "metadata": {},
   "outputs": [],
   "source": [
    "null_column = twitter_archive_enhanced_clean_df.columns[twitter_archive_enhanced_clean_df.isnull().sum() > 2000 ]"
   ]
  },
  {
   "cell_type": "markdown",
   "metadata": {},
   "source": [
    "##### code"
   ]
  },
  {
   "cell_type": "code",
   "execution_count": 37,
   "metadata": {},
   "outputs": [],
   "source": [
    "twitter_archive_enhanced_clean_df.drop( list(null_column) , axis=1 , inplace = True) "
   ]
  },
  {
   "cell_type": "code",
   "execution_count": 38,
   "metadata": {},
   "outputs": [],
   "source": [
    "# no need for 'expanded_urls'\n",
    "try :\n",
    "    twitter_archive_enhanced_clean_df.drop( 'expanded_urls' , axis=1 , inplace = True) \n",
    "except :\n",
    "    print('alredy deleted')"
   ]
  },
  {
   "cell_type": "markdown",
   "metadata": {},
   "source": [
    "##### test "
   ]
  },
  {
   "cell_type": "code",
   "execution_count": 39,
   "metadata": {},
   "outputs": [
    {
     "name": "stdout",
     "output_type": "stream",
     "text": [
      "<class 'pandas.core.frame.DataFrame'>\n",
      "RangeIndex: 2356 entries, 0 to 2355\n",
      "Data columns (total 11 columns):\n",
      "tweet_id              2356 non-null object\n",
      "timestamp             2356 non-null datetime64[ns]\n",
      "source                2356 non-null object\n",
      "text                  2356 non-null object\n",
      "rating_numerator      2356 non-null int64\n",
      "rating_denominator    2356 non-null int64\n",
      "name                  1611 non-null object\n",
      "doggo                 2356 non-null object\n",
      "floofer               2356 non-null object\n",
      "pupper                2356 non-null object\n",
      "puppo                 2356 non-null object\n",
      "dtypes: datetime64[ns](1), int64(2), object(8)\n",
      "memory usage: 202.5+ KB\n"
     ]
    }
   ],
   "source": [
    "twitter_archive_enhanced_clean_df.info()"
   ]
  },
  {
   "cell_type": "markdown",
   "metadata": {},
   "source": [
    "### define\n",
    "    invalid rating_numerator and rating_denominator by its real value "
   ]
  },
  {
   "cell_type": "code",
   "execution_count": 40,
   "metadata": {},
   "outputs": [
    {
     "name": "stdout",
     "output_type": "stream",
     "text": [
      "wrong values is  [  0  15  70   7  11 150 170  20  50  90  80  40 130 110  16 120   2]\n",
      "id with wrong values\n",
      "313    835246439529840640\n",
      "Name: tweet_id, dtype: object\n",
      "342    832088576586297345\n",
      "Name: tweet_id, dtype: object\n",
      "433    820690176645140481\n",
      "Name: tweet_id, dtype: object\n",
      "516    810984652412424192\n",
      "Name: tweet_id, dtype: object\n",
      "784     775096608509886464\n",
      "1068    740373189193256964\n",
      "1662    682962037429899265\n",
      "Name: tweet_id, dtype: object\n",
      "902    758467244762497024\n",
      "Name: tweet_id, dtype: object\n",
      "1120    731156023742988288\n",
      "Name: tweet_id, dtype: object\n",
      "1165    722974582966214656\n",
      "1598    686035780142297088\n",
      "Name: tweet_id, dtype: object\n",
      "1202    716439118184652801\n",
      "1274    709198395643068416\n",
      "1351    704054845121142784\n",
      "Name: tweet_id, dtype: object\n",
      "1228    713900603437621249\n",
      "Name: tweet_id, dtype: object\n",
      "1254    710658690886586372\n",
      "1843    675853064436391936\n",
      "Name: tweet_id, dtype: object\n",
      "1433    697463031882764288\n",
      "Name: tweet_id, dtype: object\n",
      "1634    684225744407494656\n",
      "Name: tweet_id, dtype: object\n",
      "1635    684222868335505415\n",
      "Name: tweet_id, dtype: object\n",
      "1663    682808988178739200\n",
      "Name: tweet_id, dtype: object\n",
      "1779    677716515794329600\n",
      "Name: tweet_id, dtype: object\n",
      "2335    666287406224695296\n",
      "Name: tweet_id, dtype: object\n"
     ]
    }
   ],
   "source": [
    "# wrong values \n",
    "wrong_value = twitter_archive_enhanced_clean_df['rating_denominator'].unique()[ twitter_archive_enhanced_clean_df['rating_denominator'].unique() != 10]\n",
    "print('wrong values is ' , wrong_value)\n",
    "\n",
    "print('id with wrong values')\n",
    "for value in wrong_value :\n",
    "    print( twitter_archive_enhanced_clean_df['tweet_id'][twitter_archive_enhanced_clean_df['rating_denominator'] == value] )\n",
    "\n"
   ]
  },
  {
   "cell_type": "markdown",
   "metadata": {},
   "source": [
    "now i will check this values visually by my self to get the righ answer\n",
    "313    835246439529840640 ->  10\n",
    "342    832088576586297345 -> wrong data\n",
    "433    820690176645140481 -> group of dogs\n",
    "516    810984652412424192 -> 7\n",
    "784    775096608509886464 -> 10\n",
    "1068   740373189193256964 -> 10\n",
    "1662   682962037429899265 -> 10\n",
    "902    758467244762497024 -> group of dogs\n",
    "1120   731156023742988288 -> group of dogs\n",
    "1165   722974582966214656 ->  10\n",
    "1598   686035780142297088 -> group of dogs\n",
    "1202   716439118184652801 -> 10\n",
    "1274   709198395643068416 -> group of dogs \n",
    "1351   704054845121142784 ->  group of dogs \n",
    "1228   713900603437621249 -> group of dogs  \n",
    "1254   710658690886586372 -> group of dogs \n",
    "1843   675853064436391936 -> group\n",
    "1433   697463031882764288 ->group\n",
    "1634   684225744407494656 -> group \n",
    "1635   684222868335505415 -> group\n",
    "1663   682808988178739200 -> 16\n",
    "1779   677716515794329600 -> group\n",
    "2335   666287406224695296 -> 10\n"
   ]
  },
  {
   "cell_type": "code",
   "execution_count": 41,
   "metadata": {},
   "outputs": [
    {
     "data": {
      "text/plain": [
       "188     855862651834028034\n",
       "189     855860136149123072\n",
       "290     838150277551247360\n",
       "313     835246439529840640\n",
       "340     832215909146226688\n",
       "433     820690176645140481\n",
       "516     810984652412424192\n",
       "695     786709082849828864\n",
       "763     778027034220126208\n",
       "902     758467244762497024\n",
       "979     749981277374128128\n",
       "1120    731156023742988288\n",
       "1202    716439118184652801\n",
       "1228    713900603437621249\n",
       "1254    710658690886586372\n",
       "1274    709198395643068416\n",
       "1351    704054845121142784\n",
       "1433    697463031882764288\n",
       "1634    684225744407494656\n",
       "1635    684222868335505415\n",
       "1712    680494726643068929\n",
       "1779    677716515794329600\n",
       "1843    675853064436391936\n",
       "2074    670842764863651840\n",
       "Name: tweet_id, dtype: object"
      ]
     },
     "execution_count": 41,
     "metadata": {},
     "output_type": "execute_result"
    }
   ],
   "source": [
    "twitter_archive_enhanced_clean_df['tweet_id'][twitter_archive_enhanced_clean_df['rating_numerator'] > 20 ]\n"
   ]
  },
  {
   "cell_type": "markdown",
   "metadata": {},
   "source": [
    "188     855862651834028034 -> no problem\n",
    "189     855860136149123072 -> no problem  \n",
    "290     838150277551247360 -> no problem \n",
    "313     835246439529840640 -> 13\n",
    "340     832215909146226688 -> 9.75\n",
    "433     820690176645140481 ->group\n",
    "516     810984652412424192 ->no problem\n",
    "695     786709082849828864 -> 9..75\n",
    "763     778027034220126208 -> 11.27\n",
    "902     758467244762497024 -> group\n",
    "979     749981277374128128 -> no problem\n",
    "1120   731156023742988288 -> group\n",
    "1202   716439118184652801 -> 11\n",
    "1228   713900603437621249 -> group\n",
    "1254   710658690886586372 -> group\n",
    "1274   709198395643068416 -> group\n",
    "1351   704054845121142784 ->group\n",
    "1433   697463031882764288 -> group\n",
    "1634   684225744407494656 -> group\n",
    "1635   684222868335505415 ->group\n",
    "1712   680494726643068929 -> 11.26\n",
    "1779   677716515794329600 ->group\n",
    "1843   675853064436391936 ->group\n",
    "2074   670842764863651840 ->  not doog "
   ]
  },
  {
   "cell_type": "markdown",
   "metadata": {},
   "source": [
    "##### code"
   ]
  },
  {
   "cell_type": "code",
   "execution_count": 42,
   "metadata": {},
   "outputs": [],
   "source": [
    "# with inner view the is floting poin rating_numerator \n",
    "twitter_archive_enhanced_clean_df['rating_numerator'] = twitter_archive_enhanced_clean_df['rating_numerator'].astype(float)\n",
    "twitter_archive_enhanced_clean_df['rating_denominator'] = twitter_archive_enhanced_clean_df['rating_denominator'].astype(float)\n",
    "\n",
    "\n",
    "\n",
    "#In the case of group I will divide them by there number 88/80  11/10\n",
    "#820690176645140481 ->group  84/70  -->  12/10  \n",
    "# 758467244762497024 -> group  165/150 -->  12/10  \n",
    "# 731156023742988288 -> group  204/170 --> 12/10\n",
    "# 713900603437621249 -> group 99/90 -> 11/10\n",
    "# 709198395643068416 -> group 45/50 -> 9/10\n",
    "# 704054845121142784 -> group 60/50 -> 12/10\n",
    "# 697463031882764288 -> group 44/40 -> 11/10\n",
    "# 684225744407494656 -> group 143/130 -> 11/10\n",
    "#684222868335505415 ->group 121/110 -> 11/10\n",
    "#677716515794329600 ->group 144/120 -> 12/10\n",
    "#675853064436391936 ->group 88/80 -> 11/10\n",
    " \n",
    "modified_id = { '820690176645140481' : [ 12 , 10 ] ,\n",
    "                '758467244762497024' : [ 12 , 10 ] ,\n",
    "                '731156023742988288' : [ 12 , 10 ] ,\n",
    "                '713900603437621249' : [ 11 , 20 ] ,\n",
    "                '709198395643068416' : [ 9  , 10 ] ,\n",
    "                '704054845121142784' : [ 12 , 10 ] ,\n",
    "                '697463031882764288' : [ 11 , 10 ] ,\n",
    "                '684225744407494656' : [ 11 , 10 ] ,\n",
    "                '684222868335505415' : [ 11 , 10 ] ,\n",
    "                '677716515794329600' : [ 12 , 10 ] ,\n",
    "                '675853064436391936' : [ 11 , 10 ] ,\n",
    "                '710658690886586372' : [ 10 , 10 ] ,\n",
    "                '810984652412424192' : [34.28 , 10 ]\n",
    "            }\n",
    "#denominators need to be 10 \n",
    "#835246439529840640  ->  10\n",
    "#775096608509886464 -> 10\n",
    "#740373189193256964 -> 10\n",
    "#682962037429899265 -> 10\n",
    "#722974582966214656 ->  10\n",
    "#716439118184652801 -> 10\n",
    "#682808988178739200 -> 16\n",
    "#666287406224695296 -> 10\n",
    "\n",
    "dum_list = [ '835246439529840640' , '775096608509886464' , '740373189193256964' , '682962037429899265' , '722974582966214656' \n",
    "                    , '716439118184652801' , '682808988178739200' , '666287406224695296' ]\n",
    "\n",
    "#numerator need to be fixed \n",
    "#835246439529840640 -> 13\n",
    "#832215909146226688 -> 9.75\n",
    "#786709082849828864 -> 9.75\n",
    "#778027034220126208 -> 11.27\n",
    "#716439118184652801 -> 11\n",
    "#680494726643068929 -> 11.26\n",
    "\n",
    "num_dict = {'835246439529840640' : 13 ,\n",
    "            '832215909146226688' : 9.75 ,\n",
    "            '786709082849828864' : 9.75 ,\n",
    "            '778027034220126208' : 11.27 ,\n",
    "            '716439118184652801' : 11 ,\n",
    "            '680494726643068929' : 11.26 ,\n",
    "}\n",
    "\n",
    "for k,v in modified_id.items() :\n",
    "    twitter_archive_enhanced_clean_df.loc[twitter_archive_enhanced_clean_df['tweet_id']==k, ['rating_numerator']] = v[0]\n",
    "    twitter_archive_enhanced_clean_df.loc[twitter_archive_enhanced_clean_df['tweet_id']==k, ['rating_denominator']] = v[1]\n",
    "\n",
    "for ID in dum_list :\n",
    "        twitter_archive_enhanced_clean_df.loc[twitter_archive_enhanced_clean_df['tweet_id']==ID, ['rating_denominator']] = 10\n",
    "\n",
    "for k,v in num_dict.items() :\n",
    "        twitter_archive_enhanced_clean_df.loc[twitter_archive_enhanced_clean_df['tweet_id']==k, ['rating_numerator']] = v\n",
    "\n",
    "\n"
   ]
  },
  {
   "cell_type": "code",
   "execution_count": 43,
   "metadata": {},
   "outputs": [],
   "source": [
    "indexes = twitter_archive_enhanced_clean_df[['tweet_id' ]][twitter_archive_enhanced_clean_df['rating_numerator'] > 100 ].index\n",
    " \n",
    "#i will remove them becuse they are outlayes\n",
    "twitter_archive_enhanced_clean_df.drop(indexes, inplace=True)"
   ]
  },
  {
   "cell_type": "code",
   "execution_count": 44,
   "metadata": {},
   "outputs": [],
   "source": [
    "# in valid_data \n",
    "twitter_archive_enhanced_clean_df.drop(twitter_archive_enhanced_clean_df[ twitter_archive_enhanced_clean_df['tweet_id'] == '832088576586297345'].index, inplace=True)"
   ]
  },
  {
   "cell_type": "markdown",
   "metadata": {},
   "source": [
    "##### test"
   ]
  },
  {
   "cell_type": "code",
   "execution_count": 45,
   "metadata": {},
   "outputs": [
    {
     "name": "stdout",
     "output_type": "stream",
     "text": [
      "wrong values is  [ 20.]\n"
     ]
    }
   ],
   "source": [
    "wrong_value = twitter_archive_enhanced_clean_df['rating_denominator'].unique()[ twitter_archive_enhanced_clean_df['rating_denominator'].unique() != 10]\n",
    "print('wrong values is ' , wrong_value)\n"
   ]
  },
  {
   "cell_type": "code",
   "execution_count": 46,
   "metadata": {},
   "outputs": [
    {
     "data": {
      "text/html": [
       "<div>\n",
       "<style scoped>\n",
       "    .dataframe tbody tr th:only-of-type {\n",
       "        vertical-align: middle;\n",
       "    }\n",
       "\n",
       "    .dataframe tbody tr th {\n",
       "        vertical-align: top;\n",
       "    }\n",
       "\n",
       "    .dataframe thead th {\n",
       "        text-align: right;\n",
       "    }\n",
       "</style>\n",
       "<table border=\"1\" class=\"dataframe\">\n",
       "  <thead>\n",
       "    <tr style=\"text-align: right;\">\n",
       "      <th></th>\n",
       "      <th>rating_numerator</th>\n",
       "    </tr>\n",
       "  </thead>\n",
       "  <tbody>\n",
       "    <tr>\n",
       "      <th>516</th>\n",
       "      <td>34.28</td>\n",
       "    </tr>\n",
       "  </tbody>\n",
       "</table>\n",
       "</div>"
      ],
      "text/plain": [
       "     rating_numerator\n",
       "516             34.28"
      ]
     },
     "execution_count": 46,
     "metadata": {},
     "output_type": "execute_result"
    }
   ],
   "source": [
    "twitter_archive_enhanced_clean_df[['rating_numerator' ]][twitter_archive_enhanced_clean_df['rating_numerator'] > 20 ]\n"
   ]
  },
  {
   "cell_type": "markdown",
   "metadata": {},
   "source": [
    "### define\n",
    "    - remove undefined text 'already removed in rating_denominator process'\n",
    "    - mofifiy text which starts with \"RT @dog_rates:”"
   ]
  },
  {
   "cell_type": "code",
   "execution_count": 47,
   "metadata": {},
   "outputs": [
    {
     "data": {
      "text/plain": [
       "156"
      ]
     },
     "execution_count": 47,
     "metadata": {},
     "output_type": "execute_result"
    }
   ],
   "source": [
    "twitter_archive_enhanced_clean_df['text'].str.startswith('RT @dog_rates: ').sum()"
   ]
  },
  {
   "cell_type": "markdown",
   "metadata": {},
   "source": [
    "##### code"
   ]
  },
  {
   "cell_type": "code",
   "execution_count": 48,
   "metadata": {},
   "outputs": [],
   "source": [
    "for text in twitter_archive_enhanced_clean_df['text']  :\n",
    "    if text.startswith('RT @dog_rates: ') :\n",
    "        twitter_archive_enhanced_clean_df['text'].replace(text , text.replace('RT @dog_rates: ' , '') , inplace = True)\n",
    "\n"
   ]
  },
  {
   "cell_type": "markdown",
   "metadata": {},
   "source": [
    "##### test"
   ]
  },
  {
   "cell_type": "code",
   "execution_count": 49,
   "metadata": {},
   "outputs": [
    {
     "data": {
      "text/plain": [
       "0"
      ]
     },
     "execution_count": 49,
     "metadata": {},
     "output_type": "execute_result"
    }
   ],
   "source": [
    "twitter_archive_enhanced_clean_df['text'].str.startswith('RT @dog_rates: ').sum()"
   ]
  },
  {
   "cell_type": "markdown",
   "metadata": {},
   "source": [
    "### define\n",
    "    -change tweep id data_type in image image_predictions_clean_df"
   ]
  },
  {
   "cell_type": "code",
   "execution_count": 50,
   "metadata": {},
   "outputs": [
    {
     "data": {
      "text/plain": [
       "dtype('int64')"
      ]
     },
     "execution_count": 50,
     "metadata": {},
     "output_type": "execute_result"
    }
   ],
   "source": [
    "image_predictions_clean_df['tweet_id'].dtype"
   ]
  },
  {
   "cell_type": "markdown",
   "metadata": {},
   "source": [
    "##### code"
   ]
  },
  {
   "cell_type": "code",
   "execution_count": 51,
   "metadata": {},
   "outputs": [],
   "source": [
    "image_predictions_clean_df['tweet_id'] = image_predictions_clean_df['tweet_id'].astype(str)"
   ]
  },
  {
   "cell_type": "markdown",
   "metadata": {},
   "source": [
    "##### test "
   ]
  },
  {
   "cell_type": "code",
   "execution_count": 52,
   "metadata": {},
   "outputs": [
    {
     "data": {
      "text/plain": [
       "dtype('O')"
      ]
     },
     "execution_count": 52,
     "metadata": {},
     "output_type": "execute_result"
    }
   ],
   "source": [
    "image_predictions_clean_df['tweet_id'].dtype"
   ]
  },
  {
   "cell_type": "markdown",
   "metadata": {},
   "source": [
    "### define\n",
    "    -change tweep id data_type in image rweets_info_clean_df"
   ]
  },
  {
   "cell_type": "code",
   "execution_count": 53,
   "metadata": {},
   "outputs": [
    {
     "data": {
      "text/plain": [
       "dtype('int64')"
      ]
     },
     "execution_count": 53,
     "metadata": {},
     "output_type": "execute_result"
    }
   ],
   "source": [
    "tweets_information_clean_df['tweet_id'].dtype"
   ]
  },
  {
   "cell_type": "markdown",
   "metadata": {},
   "source": [
    "##### code"
   ]
  },
  {
   "cell_type": "code",
   "execution_count": 54,
   "metadata": {},
   "outputs": [],
   "source": [
    "tweets_information_clean_df['tweet_id'] = tweets_information_clean_df['tweet_id'].astype(str)"
   ]
  },
  {
   "cell_type": "markdown",
   "metadata": {},
   "source": [
    "##### test "
   ]
  },
  {
   "cell_type": "code",
   "execution_count": 55,
   "metadata": {},
   "outputs": [
    {
     "data": {
      "text/plain": [
       "dtype('O')"
      ]
     },
     "execution_count": 55,
     "metadata": {},
     "output_type": "execute_result"
    }
   ],
   "source": [
    "tweets_information_clean_df['tweet_id'].dtype"
   ]
  },
  {
   "cell_type": "markdown",
   "metadata": {},
   "source": [
    "tidness overview"
   ]
  },
  {
   "cell_type": "code",
   "execution_count": 56,
   "metadata": {},
   "outputs": [
    {
     "data": {
      "text/html": [
       "<div>\n",
       "<style scoped>\n",
       "    .dataframe tbody tr th:only-of-type {\n",
       "        vertical-align: middle;\n",
       "    }\n",
       "\n",
       "    .dataframe tbody tr th {\n",
       "        vertical-align: top;\n",
       "    }\n",
       "\n",
       "    .dataframe thead th {\n",
       "        text-align: right;\n",
       "    }\n",
       "</style>\n",
       "<table border=\"1\" class=\"dataframe\">\n",
       "  <thead>\n",
       "    <tr style=\"text-align: right;\">\n",
       "      <th></th>\n",
       "      <th>tweet_id</th>\n",
       "      <th>timestamp</th>\n",
       "      <th>source</th>\n",
       "      <th>text</th>\n",
       "      <th>rating_numerator</th>\n",
       "      <th>rating_denominator</th>\n",
       "      <th>name</th>\n",
       "      <th>doggo</th>\n",
       "      <th>floofer</th>\n",
       "      <th>pupper</th>\n",
       "      <th>puppo</th>\n",
       "    </tr>\n",
       "  </thead>\n",
       "  <tbody>\n",
       "    <tr>\n",
       "      <th>154</th>\n",
       "      <td>862096992088072192</td>\n",
       "      <td>2017-05-10 00:08:34</td>\n",
       "      <td>http://twitter.com/download/iphone</td>\n",
       "      <td>We only rate dogs. Please don't send perfectly...</td>\n",
       "      <td>13.0</td>\n",
       "      <td>10.0</td>\n",
       "      <td>NaN</td>\n",
       "      <td>None</td>\n",
       "      <td>None</td>\n",
       "      <td>None</td>\n",
       "      <td>None</td>\n",
       "    </tr>\n",
       "  </tbody>\n",
       "</table>\n",
       "</div>"
      ],
      "text/plain": [
       "               tweet_id           timestamp  \\\n",
       "154  862096992088072192 2017-05-10 00:08:34   \n",
       "\n",
       "                                 source  \\\n",
       "154  http://twitter.com/download/iphone   \n",
       "\n",
       "                                                  text  rating_numerator  \\\n",
       "154  We only rate dogs. Please don't send perfectly...              13.0   \n",
       "\n",
       "     rating_denominator name doggo floofer pupper puppo  \n",
       "154                10.0  NaN  None    None   None  None  "
      ]
     },
     "execution_count": 56,
     "metadata": {},
     "output_type": "execute_result"
    }
   ],
   "source": [
    "twitter_archive_enhanced_clean_df.sample()"
   ]
  },
  {
   "cell_type": "code",
   "execution_count": 57,
   "metadata": {},
   "outputs": [
    {
     "name": "stdout",
     "output_type": "stream",
     "text": [
      "<class 'pandas.core.frame.DataFrame'>\n",
      "Int64Index: 2350 entries, 0 to 2355\n",
      "Data columns (total 11 columns):\n",
      "tweet_id              2350 non-null object\n",
      "timestamp             2350 non-null datetime64[ns]\n",
      "source                2350 non-null object\n",
      "text                  2350 non-null object\n",
      "rating_numerator      2350 non-null float64\n",
      "rating_denominator    2350 non-null float64\n",
      "name                  1610 non-null object\n",
      "doggo                 2350 non-null object\n",
      "floofer               2350 non-null object\n",
      "pupper                2350 non-null object\n",
      "puppo                 2350 non-null object\n",
      "dtypes: datetime64[ns](1), float64(2), object(8)\n",
      "memory usage: 220.3+ KB\n"
     ]
    }
   ],
   "source": [
    "twitter_archive_enhanced_clean_df.info()"
   ]
  },
  {
   "cell_type": "markdown",
   "metadata": {},
   "source": [
    "##### define\n",
    "- in image_prediction_df (p1, p2 and p3) aren't descriptive names  "
   ]
  },
  {
   "cell_type": "code",
   "execution_count": 58,
   "metadata": {},
   "outputs": [
    {
     "name": "stdout",
     "output_type": "stream",
     "text": [
      "Index(['tweet_id', 'jpg_url', 'img_num', 'p1', 'p1_conf', 'p1_dog', 'p2',\n",
      "       'p2_conf', 'p2_dog', 'p3', 'p3_conf', 'p3_dog'],\n",
      "      dtype='object')\n",
      "Index(['tweet_id', 'predictio_1', 'p1_conf', 'p1_dog', ' prediction_2',\n",
      "       'p2_conf', 'p2_dog', ' prediction_3', 'p3_conf', 'p3_dog'],\n",
      "      dtype='object')\n"
     ]
    }
   ],
   "source": [
    "print(image_predictions_clean_df.columns)\n",
    "#code\n",
    "image_predictions_clean_df.rename(columns={\"p1\":'predictio_1' ,\n",
    "                                           \"p2\" : ' prediction_2' ,\n",
    "                                           \"p3\": ' prediction_3' ,\n",
    "                                           \"p4\" : ' prediction_3' } ,inplace = True)\n",
    "#i will not use 'img_num' and 'img_num' so i wil drop them \n",
    "image_predictions_clean_df.drop(['img_num', 'jpg_url'] , axis=1 , inplace = True )\n",
    "\n",
    "#test\n",
    "print(image_predictions_clean_df.columns)\n",
    "\n"
   ]
  },
  {
   "cell_type": "markdown",
   "metadata": {},
   "source": [
    " ### tidness issues"
   ]
  },
  {
   "cell_type": "markdown",
   "metadata": {},
   "source": [
    "### define\n",
    "    - in twitter_archive_enhancment  there is 1 variable in 4 column [ 'doggo' , 'floofer' , 'pupper' , 'puppo' ]  but it better to be represented in one column called dog stage ."
   ]
  },
  {
   "cell_type": "code",
   "execution_count": 59,
   "metadata": {},
   "outputs": [
    {
     "data": {
      "text/html": [
       "<div>\n",
       "<style scoped>\n",
       "    .dataframe tbody tr th:only-of-type {\n",
       "        vertical-align: middle;\n",
       "    }\n",
       "\n",
       "    .dataframe tbody tr th {\n",
       "        vertical-align: top;\n",
       "    }\n",
       "\n",
       "    .dataframe thead th {\n",
       "        text-align: right;\n",
       "    }\n",
       "</style>\n",
       "<table border=\"1\" class=\"dataframe\">\n",
       "  <thead>\n",
       "    <tr style=\"text-align: right;\">\n",
       "      <th></th>\n",
       "      <th>doggo</th>\n",
       "      <th>floofer</th>\n",
       "      <th>pupper</th>\n",
       "      <th>puppo</th>\n",
       "    </tr>\n",
       "  </thead>\n",
       "  <tbody>\n",
       "    <tr>\n",
       "      <th>0</th>\n",
       "      <td>None</td>\n",
       "      <td>None</td>\n",
       "      <td>None</td>\n",
       "      <td>None</td>\n",
       "    </tr>\n",
       "    <tr>\n",
       "      <th>1</th>\n",
       "      <td>None</td>\n",
       "      <td>None</td>\n",
       "      <td>None</td>\n",
       "      <td>None</td>\n",
       "    </tr>\n",
       "    <tr>\n",
       "      <th>2</th>\n",
       "      <td>None</td>\n",
       "      <td>None</td>\n",
       "      <td>None</td>\n",
       "      <td>None</td>\n",
       "    </tr>\n",
       "    <tr>\n",
       "      <th>3</th>\n",
       "      <td>None</td>\n",
       "      <td>None</td>\n",
       "      <td>None</td>\n",
       "      <td>None</td>\n",
       "    </tr>\n",
       "    <tr>\n",
       "      <th>4</th>\n",
       "      <td>None</td>\n",
       "      <td>None</td>\n",
       "      <td>None</td>\n",
       "      <td>None</td>\n",
       "    </tr>\n",
       "  </tbody>\n",
       "</table>\n",
       "</div>"
      ],
      "text/plain": [
       "  doggo floofer pupper puppo\n",
       "0  None    None   None  None\n",
       "1  None    None   None  None\n",
       "2  None    None   None  None\n",
       "3  None    None   None  None\n",
       "4  None    None   None  None"
      ]
     },
     "execution_count": 59,
     "metadata": {},
     "output_type": "execute_result"
    }
   ],
   "source": [
    "twitter_archive_enhanced_clean_df[ [ 'doggo' , 'floofer' , 'pupper' , 'puppo']].head()"
   ]
  },
  {
   "cell_type": "markdown",
   "metadata": {},
   "source": [
    "##### clean \n",
    "    -"
   ]
  },
  {
   "cell_type": "code",
   "execution_count": 60,
   "metadata": {},
   "outputs": [],
   "source": [
    "\n",
    "twitter_archive_enhanced_clean_df.loc[twitter_archive_enhanced_clean_df['doggo'] == 'doggo', 'dog_stage'] = 'doggo'\n",
    "twitter_archive_enhanced_clean_df.loc[twitter_archive_enhanced_clean_df['floofer'] == 'floofer', 'dog_stage'] = 'floofer'\n",
    "twitter_archive_enhanced_clean_df.loc[twitter_archive_enhanced_clean_df['pupper'] == 'pupper', 'dog_stage'] = 'pupper'\n",
    "twitter_archive_enhanced_clean_df.loc[twitter_archive_enhanced_clean_df['puppo'] == 'puppo', 'dog_stage'] = 'puppo'\n",
    "\n",
    "twitter_archive_enhanced_clean_df['dog_stage'] = twitter_archive_enhanced_clean_df['dog_stage'].astype('category')"
   ]
  },
  {
   "cell_type": "code",
   "execution_count": 61,
   "metadata": {},
   "outputs": [
    {
     "data": {
      "text/html": [
       "<div>\n",
       "<style scoped>\n",
       "    .dataframe tbody tr th:only-of-type {\n",
       "        vertical-align: middle;\n",
       "    }\n",
       "\n",
       "    .dataframe tbody tr th {\n",
       "        vertical-align: top;\n",
       "    }\n",
       "\n",
       "    .dataframe thead th {\n",
       "        text-align: right;\n",
       "    }\n",
       "</style>\n",
       "<table border=\"1\" class=\"dataframe\">\n",
       "  <thead>\n",
       "    <tr style=\"text-align: right;\">\n",
       "      <th></th>\n",
       "      <th>doggo</th>\n",
       "      <th>floofer</th>\n",
       "      <th>pupper</th>\n",
       "      <th>puppo</th>\n",
       "      <th>dog_stage</th>\n",
       "    </tr>\n",
       "  </thead>\n",
       "  <tbody>\n",
       "    <tr>\n",
       "      <th>2186</th>\n",
       "      <td>None</td>\n",
       "      <td>None</td>\n",
       "      <td>None</td>\n",
       "      <td>None</td>\n",
       "      <td>NaN</td>\n",
       "    </tr>\n",
       "    <tr>\n",
       "      <th>1208</th>\n",
       "      <td>None</td>\n",
       "      <td>None</td>\n",
       "      <td>None</td>\n",
       "      <td>None</td>\n",
       "      <td>NaN</td>\n",
       "    </tr>\n",
       "    <tr>\n",
       "      <th>1924</th>\n",
       "      <td>None</td>\n",
       "      <td>None</td>\n",
       "      <td>None</td>\n",
       "      <td>None</td>\n",
       "      <td>NaN</td>\n",
       "    </tr>\n",
       "    <tr>\n",
       "      <th>1525</th>\n",
       "      <td>None</td>\n",
       "      <td>None</td>\n",
       "      <td>None</td>\n",
       "      <td>None</td>\n",
       "      <td>NaN</td>\n",
       "    </tr>\n",
       "    <tr>\n",
       "      <th>2066</th>\n",
       "      <td>None</td>\n",
       "      <td>None</td>\n",
       "      <td>None</td>\n",
       "      <td>None</td>\n",
       "      <td>NaN</td>\n",
       "    </tr>\n",
       "  </tbody>\n",
       "</table>\n",
       "</div>"
      ],
      "text/plain": [
       "     doggo floofer pupper puppo dog_stage\n",
       "2186  None    None   None  None       NaN\n",
       "1208  None    None   None  None       NaN\n",
       "1924  None    None   None  None       NaN\n",
       "1525  None    None   None  None       NaN\n",
       "2066  None    None   None  None       NaN"
      ]
     },
     "execution_count": 61,
     "metadata": {},
     "output_type": "execute_result"
    }
   ],
   "source": [
    "twitter_archive_enhanced_clean_df[ [ 'doggo' , 'floofer' , 'pupper' , 'puppo' , 'dog_stage']].sample(5)"
   ]
  },
  {
   "cell_type": "code",
   "execution_count": 62,
   "metadata": {},
   "outputs": [],
   "source": [
    "#remove unusfull column now\n",
    "twitter_archive_enhanced_clean_df.drop([ 'doggo' , 'floofer' , 'pupper' , 'puppo' ] , axis = 1 , inplace = True )"
   ]
  },
  {
   "cell_type": "markdown",
   "metadata": {},
   "source": [
    "##### test "
   ]
  },
  {
   "cell_type": "code",
   "execution_count": 63,
   "metadata": {},
   "outputs": [
    {
     "name": "stdout",
     "output_type": "stream",
     "text": [
      "0    NaN\n",
      "1    NaN\n",
      "2    NaN\n",
      "3    NaN\n",
      "4    NaN\n",
      "Name: dog_stage, dtype: category\n",
      "Categories (4, object): [doggo, floofer, pupper, puppo]\n"
     ]
    }
   ],
   "source": [
    "try :\n",
    "    print(twitter_archive_enhanced_clean_df[ [ 'doggo' , 'floofer' , 'pupper' , 'puppo']].head())\n",
    "except :\n",
    "    print(twitter_archive_enhanced_clean_df['dog_stage'].head())"
   ]
  },
  {
   "cell_type": "code",
   "execution_count": null,
   "metadata": {},
   "outputs": [],
   "source": []
  },
  {
   "cell_type": "markdown",
   "metadata": {},
   "source": [
    "## merge data frames"
   ]
  },
  {
   "cell_type": "code",
   "execution_count": 64,
   "metadata": {},
   "outputs": [
    {
     "data": {
      "text/html": [
       "<div>\n",
       "<style scoped>\n",
       "    .dataframe tbody tr th:only-of-type {\n",
       "        vertical-align: middle;\n",
       "    }\n",
       "\n",
       "    .dataframe tbody tr th {\n",
       "        vertical-align: top;\n",
       "    }\n",
       "\n",
       "    .dataframe thead th {\n",
       "        text-align: right;\n",
       "    }\n",
       "</style>\n",
       "<table border=\"1\" class=\"dataframe\">\n",
       "  <thead>\n",
       "    <tr style=\"text-align: right;\">\n",
       "      <th></th>\n",
       "      <th>tweet_id</th>\n",
       "      <th>timestamp</th>\n",
       "      <th>source</th>\n",
       "      <th>text</th>\n",
       "      <th>rating_numerator</th>\n",
       "      <th>rating_denominator</th>\n",
       "      <th>name</th>\n",
       "      <th>dog_stage</th>\n",
       "      <th>favorite_count</th>\n",
       "      <th>retweet_count</th>\n",
       "      <th>predictio_1</th>\n",
       "      <th>p1_conf</th>\n",
       "      <th>p1_dog</th>\n",
       "      <th>prediction_2</th>\n",
       "      <th>p2_conf</th>\n",
       "      <th>p2_dog</th>\n",
       "      <th>prediction_3</th>\n",
       "      <th>p3_conf</th>\n",
       "      <th>p3_dog</th>\n",
       "    </tr>\n",
       "  </thead>\n",
       "  <tbody>\n",
       "    <tr>\n",
       "      <th>0</th>\n",
       "      <td>892420643555336193</td>\n",
       "      <td>2017-08-01 16:23:56</td>\n",
       "      <td>http://twitter.com/download/iphone</td>\n",
       "      <td>This is Phineas. He's a mystical boy. Only eve...</td>\n",
       "      <td>13.0</td>\n",
       "      <td>10.0</td>\n",
       "      <td>Phineas</td>\n",
       "      <td>NaN</td>\n",
       "      <td>39467</td>\n",
       "      <td>8853</td>\n",
       "      <td>orange</td>\n",
       "      <td>0.097049</td>\n",
       "      <td>False</td>\n",
       "      <td>bagel</td>\n",
       "      <td>0.085851</td>\n",
       "      <td>False</td>\n",
       "      <td>banana</td>\n",
       "      <td>0.076110</td>\n",
       "      <td>False</td>\n",
       "    </tr>\n",
       "    <tr>\n",
       "      <th>1</th>\n",
       "      <td>892177421306343426</td>\n",
       "      <td>2017-08-01 00:17:27</td>\n",
       "      <td>http://twitter.com/download/iphone</td>\n",
       "      <td>This is Tilly. She's just checking pup on you....</td>\n",
       "      <td>13.0</td>\n",
       "      <td>10.0</td>\n",
       "      <td>Tilly</td>\n",
       "      <td>NaN</td>\n",
       "      <td>33819</td>\n",
       "      <td>6514</td>\n",
       "      <td>Chihuahua</td>\n",
       "      <td>0.323581</td>\n",
       "      <td>True</td>\n",
       "      <td>Pekinese</td>\n",
       "      <td>0.090647</td>\n",
       "      <td>True</td>\n",
       "      <td>papillon</td>\n",
       "      <td>0.068957</td>\n",
       "      <td>True</td>\n",
       "    </tr>\n",
       "    <tr>\n",
       "      <th>2</th>\n",
       "      <td>891815181378084864</td>\n",
       "      <td>2017-07-31 00:18:03</td>\n",
       "      <td>http://twitter.com/download/iphone</td>\n",
       "      <td>This is Archie. He is a rare Norwegian Pouncin...</td>\n",
       "      <td>12.0</td>\n",
       "      <td>10.0</td>\n",
       "      <td>Archie</td>\n",
       "      <td>NaN</td>\n",
       "      <td>25461</td>\n",
       "      <td>4328</td>\n",
       "      <td>Chihuahua</td>\n",
       "      <td>0.716012</td>\n",
       "      <td>True</td>\n",
       "      <td>malamute</td>\n",
       "      <td>0.078253</td>\n",
       "      <td>True</td>\n",
       "      <td>kelpie</td>\n",
       "      <td>0.031379</td>\n",
       "      <td>True</td>\n",
       "    </tr>\n",
       "    <tr>\n",
       "      <th>3</th>\n",
       "      <td>891689557279858688</td>\n",
       "      <td>2017-07-30 15:58:51</td>\n",
       "      <td>http://twitter.com/download/iphone</td>\n",
       "      <td>This is Darla. She commenced a snooze mid meal...</td>\n",
       "      <td>13.0</td>\n",
       "      <td>10.0</td>\n",
       "      <td>Darla</td>\n",
       "      <td>NaN</td>\n",
       "      <td>42908</td>\n",
       "      <td>8964</td>\n",
       "      <td>paper_towel</td>\n",
       "      <td>0.170278</td>\n",
       "      <td>False</td>\n",
       "      <td>Labrador_retriever</td>\n",
       "      <td>0.168086</td>\n",
       "      <td>True</td>\n",
       "      <td>spatula</td>\n",
       "      <td>0.040836</td>\n",
       "      <td>False</td>\n",
       "    </tr>\n",
       "    <tr>\n",
       "      <th>4</th>\n",
       "      <td>891327558926688256</td>\n",
       "      <td>2017-07-29 16:00:24</td>\n",
       "      <td>http://twitter.com/download/iphone</td>\n",
       "      <td>This is Franklin. He would like you to stop ca...</td>\n",
       "      <td>12.0</td>\n",
       "      <td>10.0</td>\n",
       "      <td>Franklin</td>\n",
       "      <td>NaN</td>\n",
       "      <td>41048</td>\n",
       "      <td>9774</td>\n",
       "      <td>basset</td>\n",
       "      <td>0.555712</td>\n",
       "      <td>True</td>\n",
       "      <td>English_springer</td>\n",
       "      <td>0.225770</td>\n",
       "      <td>True</td>\n",
       "      <td>German_short-haired_pointer</td>\n",
       "      <td>0.175219</td>\n",
       "      <td>True</td>\n",
       "    </tr>\n",
       "  </tbody>\n",
       "</table>\n",
       "</div>"
      ],
      "text/plain": [
       "             tweet_id           timestamp                              source  \\\n",
       "0  892420643555336193 2017-08-01 16:23:56  http://twitter.com/download/iphone   \n",
       "1  892177421306343426 2017-08-01 00:17:27  http://twitter.com/download/iphone   \n",
       "2  891815181378084864 2017-07-31 00:18:03  http://twitter.com/download/iphone   \n",
       "3  891689557279858688 2017-07-30 15:58:51  http://twitter.com/download/iphone   \n",
       "4  891327558926688256 2017-07-29 16:00:24  http://twitter.com/download/iphone   \n",
       "\n",
       "                                                text  rating_numerator  \\\n",
       "0  This is Phineas. He's a mystical boy. Only eve...              13.0   \n",
       "1  This is Tilly. She's just checking pup on you....              13.0   \n",
       "2  This is Archie. He is a rare Norwegian Pouncin...              12.0   \n",
       "3  This is Darla. She commenced a snooze mid meal...              13.0   \n",
       "4  This is Franklin. He would like you to stop ca...              12.0   \n",
       "\n",
       "   rating_denominator      name dog_stage  favorite_count  retweet_count  \\\n",
       "0                10.0   Phineas       NaN           39467           8853   \n",
       "1                10.0     Tilly       NaN           33819           6514   \n",
       "2                10.0    Archie       NaN           25461           4328   \n",
       "3                10.0     Darla       NaN           42908           8964   \n",
       "4                10.0  Franklin       NaN           41048           9774   \n",
       "\n",
       "   predictio_1   p1_conf  p1_dog        prediction_2   p2_conf  p2_dog  \\\n",
       "0       orange  0.097049   False               bagel  0.085851   False   \n",
       "1    Chihuahua  0.323581    True            Pekinese  0.090647    True   \n",
       "2    Chihuahua  0.716012    True            malamute  0.078253    True   \n",
       "3  paper_towel  0.170278   False  Labrador_retriever  0.168086    True   \n",
       "4       basset  0.555712    True    English_springer  0.225770    True   \n",
       "\n",
       "                  prediction_3   p3_conf  p3_dog  \n",
       "0                       banana  0.076110   False  \n",
       "1                     papillon  0.068957    True  \n",
       "2                       kelpie  0.031379    True  \n",
       "3                      spatula  0.040836   False  \n",
       "4  German_short-haired_pointer  0.175219    True  "
      ]
     },
     "execution_count": 64,
     "metadata": {},
     "output_type": "execute_result"
    }
   ],
   "source": [
    "## merging the 3 clean data frames togther using merge \n",
    "twitter_master_archive_df1 = pd.merge(twitter_archive_enhanced_clean_df,tweets_information_clean_df,how='inner',on='tweet_id')\n",
    "twitter_master_archive_df = pd.merge(twitter_master_archive_df1 , image_predictions_clean_df ,how='inner',on='tweet_id')\n",
    "\n",
    "twitter_master_archive_df.head()"
   ]
  },
  {
   "cell_type": "code",
   "execution_count": 65,
   "metadata": {},
   "outputs": [],
   "source": [
    "## the final clean file in csv formate 'twitter_archive_master.csv'  \n",
    "twitter_master_archive_df.to_csv('twitter_archive_master.csv' , index = False )"
   ]
  },
  {
   "cell_type": "markdown",
   "metadata": {},
   "source": [
    "## cleaning is done ^^\n",
    "### final cleaned data files  in 'twitter_archive_master.csv'"
   ]
  },
  {
   "cell_type": "code",
   "execution_count": 66,
   "metadata": {
    "scrolled": true
   },
   "outputs": [
    {
     "data": {
      "text/html": [
       "<div>\n",
       "<style scoped>\n",
       "    .dataframe tbody tr th:only-of-type {\n",
       "        vertical-align: middle;\n",
       "    }\n",
       "\n",
       "    .dataframe tbody tr th {\n",
       "        vertical-align: top;\n",
       "    }\n",
       "\n",
       "    .dataframe thead th {\n",
       "        text-align: right;\n",
       "    }\n",
       "</style>\n",
       "<table border=\"1\" class=\"dataframe\">\n",
       "  <thead>\n",
       "    <tr style=\"text-align: right;\">\n",
       "      <th></th>\n",
       "      <th>tweet_id</th>\n",
       "      <th>timestamp</th>\n",
       "      <th>source</th>\n",
       "      <th>text</th>\n",
       "      <th>rating_numerator</th>\n",
       "      <th>rating_denominator</th>\n",
       "      <th>name</th>\n",
       "      <th>dog_stage</th>\n",
       "      <th>favorite_count</th>\n",
       "      <th>retweet_count</th>\n",
       "      <th>predictio_1</th>\n",
       "      <th>p1_conf</th>\n",
       "      <th>p1_dog</th>\n",
       "      <th>prediction_2</th>\n",
       "      <th>p2_conf</th>\n",
       "      <th>p2_dog</th>\n",
       "      <th>prediction_3</th>\n",
       "      <th>p3_conf</th>\n",
       "      <th>p3_dog</th>\n",
       "    </tr>\n",
       "  </thead>\n",
       "  <tbody>\n",
       "    <tr>\n",
       "      <th>1863</th>\n",
       "      <td>669942763794931712</td>\n",
       "      <td>2015-11-26 18:16:16</td>\n",
       "      <td>http://twitter.com/download/iphone</td>\n",
       "      <td>This is Andru. He made his very own lacrosse s...</td>\n",
       "      <td>11.0</td>\n",
       "      <td>10.0</td>\n",
       "      <td>Andru</td>\n",
       "      <td>NaN</td>\n",
       "      <td>536</td>\n",
       "      <td>183</td>\n",
       "      <td>vizsla</td>\n",
       "      <td>0.743216</td>\n",
       "      <td>True</td>\n",
       "      <td>redbone</td>\n",
       "      <td>0.217282</td>\n",
       "      <td>True</td>\n",
       "      <td>Rhodesian_ridgeback</td>\n",
       "      <td>0.028473</td>\n",
       "      <td>True</td>\n",
       "    </tr>\n",
       "    <tr>\n",
       "      <th>1645</th>\n",
       "      <td>674082852460433408</td>\n",
       "      <td>2015-12-08 04:27:30</td>\n",
       "      <td>http://twitter.com/download/iphone</td>\n",
       "      <td>This is a Sagitariot Baklava mix. Loves her ne...</td>\n",
       "      <td>11.0</td>\n",
       "      <td>10.0</td>\n",
       "      <td>a</td>\n",
       "      <td>NaN</td>\n",
       "      <td>804</td>\n",
       "      <td>186</td>\n",
       "      <td>Pomeranian</td>\n",
       "      <td>0.666957</td>\n",
       "      <td>True</td>\n",
       "      <td>Shetland_sheepdog</td>\n",
       "      <td>0.028019</td>\n",
       "      <td>True</td>\n",
       "      <td>ski_mask</td>\n",
       "      <td>0.020683</td>\n",
       "      <td>False</td>\n",
       "    </tr>\n",
       "    <tr>\n",
       "      <th>1196</th>\n",
       "      <td>698195409219559425</td>\n",
       "      <td>2016-02-12 17:22:12</td>\n",
       "      <td>http://twitter.com/download/iphone</td>\n",
       "      <td>Meet Beau &amp;amp; Wilbur. Wilbur stole Beau's be...</td>\n",
       "      <td>9.0</td>\n",
       "      <td>10.0</td>\n",
       "      <td>Beau</td>\n",
       "      <td>NaN</td>\n",
       "      <td>18408</td>\n",
       "      <td>6750</td>\n",
       "      <td>Labrador_retriever</td>\n",
       "      <td>0.643690</td>\n",
       "      <td>True</td>\n",
       "      <td>American_Staffordshire_terrier</td>\n",
       "      <td>0.102684</td>\n",
       "      <td>True</td>\n",
       "      <td>dalmatian</td>\n",
       "      <td>0.050008</td>\n",
       "      <td>True</td>\n",
       "    </tr>\n",
       "    <tr>\n",
       "      <th>1132</th>\n",
       "      <td>703769065844768768</td>\n",
       "      <td>2016-02-28 02:29:55</td>\n",
       "      <td>http://twitter.com/download/iphone</td>\n",
       "      <td>When you're trying to watch your favorite tv s...</td>\n",
       "      <td>10.0</td>\n",
       "      <td>10.0</td>\n",
       "      <td>NaN</td>\n",
       "      <td>NaN</td>\n",
       "      <td>3621</td>\n",
       "      <td>1276</td>\n",
       "      <td>boxer</td>\n",
       "      <td>0.838994</td>\n",
       "      <td>True</td>\n",
       "      <td>Greater_Swiss_Mountain_dog</td>\n",
       "      <td>0.088800</td>\n",
       "      <td>True</td>\n",
       "      <td>bull_mastiff</td>\n",
       "      <td>0.031684</td>\n",
       "      <td>True</td>\n",
       "    </tr>\n",
       "    <tr>\n",
       "      <th>1913</th>\n",
       "      <td>668852170888998912</td>\n",
       "      <td>2015-11-23 18:02:38</td>\n",
       "      <td>http://twitter.com/download/iphone</td>\n",
       "      <td>Say hello to Bobb. Bobb is a Golden High Fescu...</td>\n",
       "      <td>11.0</td>\n",
       "      <td>10.0</td>\n",
       "      <td>Bobb</td>\n",
       "      <td>NaN</td>\n",
       "      <td>479</td>\n",
       "      <td>184</td>\n",
       "      <td>golden_retriever</td>\n",
       "      <td>0.903529</td>\n",
       "      <td>True</td>\n",
       "      <td>Tibetan_mastiff</td>\n",
       "      <td>0.041497</td>\n",
       "      <td>True</td>\n",
       "      <td>kuvasz</td>\n",
       "      <td>0.022500</td>\n",
       "      <td>True</td>\n",
       "    </tr>\n",
       "  </tbody>\n",
       "</table>\n",
       "</div>"
      ],
      "text/plain": [
       "                tweet_id           timestamp  \\\n",
       "1863  669942763794931712 2015-11-26 18:16:16   \n",
       "1645  674082852460433408 2015-12-08 04:27:30   \n",
       "1196  698195409219559425 2016-02-12 17:22:12   \n",
       "1132  703769065844768768 2016-02-28 02:29:55   \n",
       "1913  668852170888998912 2015-11-23 18:02:38   \n",
       "\n",
       "                                  source  \\\n",
       "1863  http://twitter.com/download/iphone   \n",
       "1645  http://twitter.com/download/iphone   \n",
       "1196  http://twitter.com/download/iphone   \n",
       "1132  http://twitter.com/download/iphone   \n",
       "1913  http://twitter.com/download/iphone   \n",
       "\n",
       "                                                   text  rating_numerator  \\\n",
       "1863  This is Andru. He made his very own lacrosse s...              11.0   \n",
       "1645  This is a Sagitariot Baklava mix. Loves her ne...              11.0   \n",
       "1196  Meet Beau &amp; Wilbur. Wilbur stole Beau's be...               9.0   \n",
       "1132  When you're trying to watch your favorite tv s...              10.0   \n",
       "1913  Say hello to Bobb. Bobb is a Golden High Fescu...              11.0   \n",
       "\n",
       "      rating_denominator   name dog_stage  favorite_count  retweet_count  \\\n",
       "1863                10.0  Andru       NaN             536            183   \n",
       "1645                10.0      a       NaN             804            186   \n",
       "1196                10.0   Beau       NaN           18408           6750   \n",
       "1132                10.0    NaN       NaN            3621           1276   \n",
       "1913                10.0   Bobb       NaN             479            184   \n",
       "\n",
       "             predictio_1   p1_conf  p1_dog                    prediction_2  \\\n",
       "1863              vizsla  0.743216    True                         redbone   \n",
       "1645          Pomeranian  0.666957    True               Shetland_sheepdog   \n",
       "1196  Labrador_retriever  0.643690    True  American_Staffordshire_terrier   \n",
       "1132               boxer  0.838994    True      Greater_Swiss_Mountain_dog   \n",
       "1913    golden_retriever  0.903529    True                 Tibetan_mastiff   \n",
       "\n",
       "       p2_conf  p2_dog         prediction_3   p3_conf  p3_dog  \n",
       "1863  0.217282    True  Rhodesian_ridgeback  0.028473    True  \n",
       "1645  0.028019    True             ski_mask  0.020683   False  \n",
       "1196  0.102684    True            dalmatian  0.050008    True  \n",
       "1132  0.088800    True         bull_mastiff  0.031684    True  \n",
       "1913  0.041497    True               kuvasz  0.022500    True  "
      ]
     },
     "execution_count": 66,
     "metadata": {},
     "output_type": "execute_result"
    }
   ],
   "source": [
    "twitter_master_archive_df.sample(5)"
   ]
  },
  {
   "cell_type": "code",
   "execution_count": 67,
   "metadata": {},
   "outputs": [
    {
     "name": "stdout",
     "output_type": "stream",
     "text": [
      "<class 'pandas.core.frame.DataFrame'>\n",
      "Int64Index: 2071 entries, 0 to 2070\n",
      "Data columns (total 19 columns):\n",
      "tweet_id              2071 non-null object\n",
      "timestamp             2071 non-null datetime64[ns]\n",
      "source                2071 non-null object\n",
      "text                  2071 non-null object\n",
      "rating_numerator      2071 non-null float64\n",
      "rating_denominator    2071 non-null float64\n",
      "name                  1495 non-null object\n",
      "dog_stage             320 non-null category\n",
      "favorite_count        2071 non-null int64\n",
      "retweet_count         2071 non-null int64\n",
      "predictio_1           2071 non-null object\n",
      "p1_conf               2071 non-null float64\n",
      "p1_dog                2071 non-null bool\n",
      " prediction_2         2071 non-null object\n",
      "p2_conf               2071 non-null float64\n",
      "p2_dog                2071 non-null bool\n",
      " prediction_3         2071 non-null object\n",
      "p3_conf               2071 non-null float64\n",
      "p3_dog                2071 non-null bool\n",
      "dtypes: bool(3), category(1), datetime64[ns](1), float64(5), int64(2), object(7)\n",
      "memory usage: 267.2+ KB\n"
     ]
    }
   ],
   "source": [
    "twitter_master_archive_df.info()"
   ]
  },
  {
   "cell_type": "markdown",
   "metadata": {},
   "source": [
    "# analysis "
   ]
  },
  {
   "cell_type": "markdown",
   "metadata": {},
   "source": [
    "## questions :-\n",
    "- dogs twith high degree of rating and people love 'more reactions\" ?\n",
    "-  what is the relation between favorites , retweet count , rating relation ? \n",
    "- The most common dog type ?\n",
    "- The most common dog stage ?\n",
    "- most common scores \n",
    "- relation between dog stage and favorites , retweet count , rating "
   ]
  },
  {
   "cell_type": "code",
   "execution_count": 68,
   "metadata": {},
   "outputs": [
    {
     "data": {
      "image/png": "[encoded data removed]",
      "text/plain": [
       "<matplotlib.figure.Figure at 0x7f22fa5f01d0>"
      ]
     },
     "metadata": {
      "needs_background": "light"
     },
     "output_type": "display_data"
    }
   ],
   "source": [
    "# relation between favorites , retweet count , rating \n",
    "\n",
    "g = sns.regplot(x=twitter_master_archive_df['rating_numerator'] , y=twitter_master_archive_df['favorite_count'])\n",
    "plt.title(\"favorites count and rating\")\n",
    "plt.xlabel('rating_numerator')\n",
    "plt.ylabel('Favorites counts ')\n",
    "fig = g.get_figure()\n"
   ]
  },
  {
   "cell_type": "code",
   "execution_count": 69,
   "metadata": {},
   "outputs": [
    {
     "data": {
      "image/png": "[encoded data removed]",
      "text/plain": [
       "<matplotlib.figure.Figure at 0x7f22f85ada20>"
      ]
     },
     "metadata": {
      "needs_background": "light"
     },
     "output_type": "display_data"
    }
   ],
   "source": [
    "g = sns.regplot(x=twitter_master_archive_df['rating_numerator'] , y=twitter_master_archive_df['retweet_count'])\n",
    "plt.title(\"retweet count and rating\")\n",
    "plt.xlabel('rating_numerator')\n",
    "plt.ylabel('retweet counts ')\n",
    "fig = g.get_figure()\n"
   ]
  },
  {
   "cell_type": "code",
   "execution_count": 70,
   "metadata": {},
   "outputs": [
    {
     "data": {
      "image/png": "[encoded data removed]",
      "text/plain": [
       "<matplotlib.figure.Figure at 0x7f22f8510128>"
      ]
     },
     "metadata": {
      "needs_background": "light"
     },
     "output_type": "display_data"
    }
   ],
   "source": [
    "g = sns.regplot(x=twitter_master_archive_df['favorite_count'] , y=twitter_master_archive_df['retweet_count'])\n",
    "plt.title(\"retweet count and favorite count\")\n",
    "plt.xlabel('favorite_count')\n",
    "plt.ylabel('retweet counts ')\n",
    "fig = g.get_figure()\n"
   ]
  },
  {
   "cell_type": "code",
   "execution_count": 71,
   "metadata": {},
   "outputs": [
    {
     "data": {
      "text/html": [
       "<div>\n",
       "<style scoped>\n",
       "    .dataframe tbody tr th:only-of-type {\n",
       "        vertical-align: middle;\n",
       "    }\n",
       "\n",
       "    .dataframe tbody tr th {\n",
       "        vertical-align: top;\n",
       "    }\n",
       "\n",
       "    .dataframe thead th {\n",
       "        text-align: right;\n",
       "    }\n",
       "</style>\n",
       "<table border=\"1\" class=\"dataframe\">\n",
       "  <thead>\n",
       "    <tr style=\"text-align: right;\">\n",
       "      <th></th>\n",
       "      <th>rating_numerator</th>\n",
       "      <th>favorite_count</th>\n",
       "      <th>retweet_count</th>\n",
       "    </tr>\n",
       "    <tr>\n",
       "      <th>predictio_1</th>\n",
       "      <th></th>\n",
       "      <th></th>\n",
       "      <th></th>\n",
       "    </tr>\n",
       "  </thead>\n",
       "  <tbody>\n",
       "    <tr>\n",
       "      <th>Saluki</th>\n",
       "      <td>12.500000</td>\n",
       "      <td>24060.000000</td>\n",
       "      <td>5133.750000</td>\n",
       "    </tr>\n",
       "    <tr>\n",
       "      <th>Tibetan_mastiff</th>\n",
       "      <td>12.400000</td>\n",
       "      <td>9738.800000</td>\n",
       "      <td>5335.800000</td>\n",
       "    </tr>\n",
       "    <tr>\n",
       "      <th>Eskimo_dog</th>\n",
       "      <td>11.777778</td>\n",
       "      <td>12001.555556</td>\n",
       "      <td>4768.888889</td>\n",
       "    </tr>\n",
       "    <tr>\n",
       "      <th>Samoyed</th>\n",
       "      <td>11.697674</td>\n",
       "      <td>12627.697674</td>\n",
       "      <td>4940.418605</td>\n",
       "    </tr>\n",
       "    <tr>\n",
       "      <th>Cardigan</th>\n",
       "      <td>11.526316</td>\n",
       "      <td>13699.315789</td>\n",
       "      <td>5123.105263</td>\n",
       "    </tr>\n",
       "    <tr>\n",
       "      <th>Great_Pyrenees</th>\n",
       "      <td>11.500000</td>\n",
       "      <td>12932.000000</td>\n",
       "      <td>4732.285714</td>\n",
       "    </tr>\n",
       "    <tr>\n",
       "      <th>cocker_spaniel</th>\n",
       "      <td>11.400000</td>\n",
       "      <td>10527.500000</td>\n",
       "      <td>4097.966667</td>\n",
       "    </tr>\n",
       "    <tr>\n",
       "      <th>Irish_water_spaniel</th>\n",
       "      <td>11.333333</td>\n",
       "      <td>16400.000000</td>\n",
       "      <td>4500.666667</td>\n",
       "    </tr>\n",
       "    <tr>\n",
       "      <th>French_bulldog</th>\n",
       "      <td>11.269231</td>\n",
       "      <td>17913.000000</td>\n",
       "      <td>4683.923077</td>\n",
       "    </tr>\n",
       "    <tr>\n",
       "      <th>Labrador_retriever</th>\n",
       "      <td>11.140000</td>\n",
       "      <td>11238.500000</td>\n",
       "      <td>4273.430000</td>\n",
       "    </tr>\n",
       "    <tr>\n",
       "      <th>English_springer</th>\n",
       "      <td>11.000000</td>\n",
       "      <td>14091.500000</td>\n",
       "      <td>5591.500000</td>\n",
       "    </tr>\n",
       "    <tr>\n",
       "      <th>flat-coated_retriever</th>\n",
       "      <td>10.875000</td>\n",
       "      <td>16791.625000</td>\n",
       "      <td>4520.250000</td>\n",
       "    </tr>\n",
       "    <tr>\n",
       "      <th>Lakeland_terrier</th>\n",
       "      <td>10.823529</td>\n",
       "      <td>12193.647059</td>\n",
       "      <td>4729.823529</td>\n",
       "    </tr>\n",
       "    <tr>\n",
       "      <th>standard_poodle</th>\n",
       "      <td>10.750000</td>\n",
       "      <td>13812.750000</td>\n",
       "      <td>11081.375000</td>\n",
       "    </tr>\n",
       "    <tr>\n",
       "      <th>Afghan_hound</th>\n",
       "      <td>10.500000</td>\n",
       "      <td>12995.000000</td>\n",
       "      <td>7162.750000</td>\n",
       "    </tr>\n",
       "    <tr>\n",
       "      <th>black-and-tan_coonhound</th>\n",
       "      <td>10.500000</td>\n",
       "      <td>17012.000000</td>\n",
       "      <td>4164.500000</td>\n",
       "    </tr>\n",
       "  </tbody>\n",
       "</table>\n",
       "</div>"
      ],
      "text/plain": [
       "                         rating_numerator  favorite_count  retweet_count\n",
       "predictio_1                                                             \n",
       "Saluki                          12.500000    24060.000000    5133.750000\n",
       "Tibetan_mastiff                 12.400000     9738.800000    5335.800000\n",
       "Eskimo_dog                      11.777778    12001.555556    4768.888889\n",
       "Samoyed                         11.697674    12627.697674    4940.418605\n",
       "Cardigan                        11.526316    13699.315789    5123.105263\n",
       "Great_Pyrenees                  11.500000    12932.000000    4732.285714\n",
       "cocker_spaniel                  11.400000    10527.500000    4097.966667\n",
       "Irish_water_spaniel             11.333333    16400.000000    4500.666667\n",
       "French_bulldog                  11.269231    17913.000000    4683.923077\n",
       "Labrador_retriever              11.140000    11238.500000    4273.430000\n",
       "English_springer                11.000000    14091.500000    5591.500000\n",
       "flat-coated_retriever           10.875000    16791.625000    4520.250000\n",
       "Lakeland_terrier                10.823529    12193.647059    4729.823529\n",
       "standard_poodle                 10.750000    13812.750000   11081.375000\n",
       "Afghan_hound                    10.500000    12995.000000    7162.750000\n",
       "black-and-tan_coonhound         10.500000    17012.000000    4164.500000"
      ]
     },
     "execution_count": 71,
     "metadata": {},
     "output_type": "execute_result"
    }
   ],
   "source": [
    "#  dogs twith high degree of rating and people love .\n",
    "\n",
    "dog_df = twitter_master_archive_df[ twitter_master_archive_df['p1_dog'] ==  True ].groupby('predictio_1')['rating_numerator' , 'favorite_count' , 'retweet_count' ].mean()\n",
    "dog_df = dog_df[dog_df['rating_numerator' ] > 10 ]\n",
    "dog_df = dog_df[ dog_df['favorite_count'] > dog_df['favorite_count'].mean()]\n",
    "dog_df = dog_df[ dog_df['retweet_count'] > dog_df['retweet_count'].mean()]\n",
    "dog_df.sort_values( ['rating_numerator' ,'retweet_count','rating_numerator'] , ascending = False )"
   ]
  },
  {
   "cell_type": "code",
   "execution_count": null,
   "metadata": {},
   "outputs": [],
   "source": []
  },
  {
   "cell_type": "code",
   "execution_count": 72,
   "metadata": {},
   "outputs": [
    {
     "data": {
      "text/html": [
       "<div>\n",
       "<style scoped>\n",
       "    .dataframe tbody tr th:only-of-type {\n",
       "        vertical-align: middle;\n",
       "    }\n",
       "\n",
       "    .dataframe tbody tr th {\n",
       "        vertical-align: top;\n",
       "    }\n",
       "\n",
       "    .dataframe thead th {\n",
       "        text-align: right;\n",
       "    }\n",
       "</style>\n",
       "<table border=\"1\" class=\"dataframe\">\n",
       "  <thead>\n",
       "    <tr style=\"text-align: right;\">\n",
       "      <th></th>\n",
       "      <th>tweet_id</th>\n",
       "      <th>timestamp</th>\n",
       "      <th>source</th>\n",
       "      <th>text</th>\n",
       "      <th>rating_numerator</th>\n",
       "      <th>rating_denominator</th>\n",
       "      <th>name</th>\n",
       "      <th>dog_stage</th>\n",
       "      <th>favorite_count</th>\n",
       "      <th>retweet_count</th>\n",
       "      <th>predictio_1</th>\n",
       "      <th>p1_conf</th>\n",
       "      <th>p1_dog</th>\n",
       "      <th>prediction_2</th>\n",
       "      <th>p2_conf</th>\n",
       "      <th>p2_dog</th>\n",
       "      <th>prediction_3</th>\n",
       "      <th>p3_conf</th>\n",
       "      <th>p3_dog</th>\n",
       "    </tr>\n",
       "  </thead>\n",
       "  <tbody>\n",
       "    <tr>\n",
       "      <th>415</th>\n",
       "      <td>810984652412424192</td>\n",
       "      <td>2016-12-19 23:06:23</td>\n",
       "      <td>http://twitter.com/download/iphone</td>\n",
       "      <td>Meet Sam. She smiles 24/7 &amp;amp; secretly aspir...</td>\n",
       "      <td>34.28</td>\n",
       "      <td>10.0</td>\n",
       "      <td>Sam</td>\n",
       "      <td>NaN</td>\n",
       "      <td>5927</td>\n",
       "      <td>1655</td>\n",
       "      <td>golden_retriever</td>\n",
       "      <td>0.871342</td>\n",
       "      <td>True</td>\n",
       "      <td>Tibetan_mastiff</td>\n",
       "      <td>0.036708</td>\n",
       "      <td>True</td>\n",
       "      <td>Labrador_retriever</td>\n",
       "      <td>0.025823</td>\n",
       "      <td>True</td>\n",
       "    </tr>\n",
       "  </tbody>\n",
       "</table>\n",
       "</div>"
      ],
      "text/plain": [
       "               tweet_id           timestamp  \\\n",
       "415  810984652412424192 2016-12-19 23:06:23   \n",
       "\n",
       "                                 source  \\\n",
       "415  http://twitter.com/download/iphone   \n",
       "\n",
       "                                                  text  rating_numerator  \\\n",
       "415  Meet Sam. She smiles 24/7 &amp; secretly aspir...             34.28   \n",
       "\n",
       "     rating_denominator name dog_stage  favorite_count  retweet_count  \\\n",
       "415                10.0  Sam       NaN            5927           1655   \n",
       "\n",
       "          predictio_1   p1_conf  p1_dog     prediction_2   p2_conf  p2_dog  \\\n",
       "415  golden_retriever  0.871342    True  Tibetan_mastiff  0.036708    True   \n",
       "\n",
       "           prediction_3   p3_conf  p3_dog  \n",
       "415  Labrador_retriever  0.025823    True  "
      ]
     },
     "execution_count": 72,
     "metadata": {},
     "output_type": "execute_result"
    }
   ],
   "source": [
    "twitter_master_archive_df[twitter_master_archive_df['rating_numerator'] == twitter_master_archive_df['rating_numerator'].max() ]"
   ]
  },
  {
   "cell_type": "code",
   "execution_count": 73,
   "metadata": {},
   "outputs": [],
   "source": [
    "top_10_dog_type = twitter_master_archive_df[ twitter_master_archive_df['p1_dog'] ==  True ]['predictio_1'].value_counts().head(10)"
   ]
  },
  {
   "cell_type": "code",
   "execution_count": 74,
   "metadata": {},
   "outputs": [
    {
     "data": {
      "image/png": "[encoded data removed]",
      "text/plain": [
       "<matplotlib.figure.Figure at 0x7f22f855eb70>"
      ]
     },
     "metadata": {
      "needs_background": "light"
     },
     "output_type": "display_data"
    }
   ],
   "source": [
    "plt.barh(top_10_dog_type.index ,top_10_dog_type , color = 'b')\n",
    "\n",
    "plt.ylabel('dog type', fontsize = 14)\n",
    "plt.xlabel('count', fontsize = 12)\n",
    "plt.title('Top 10 Dogtype', fontsize = 16)\n",
    "plt.show();\n"
   ]
  },
  {
   "cell_type": "code",
   "execution_count": 75,
   "metadata": {},
   "outputs": [
    {
     "name": "stdout",
     "output_type": "stream",
     "text": [
      "11.7018666667\n",
      "11310.8466667\n",
      "3874.46666667\n"
     ]
    }
   ],
   "source": [
    "dog_df = twitter_master_archive_df[ twitter_master_archive_df['p1_dog'] ==  True ].groupby('predictio_1')['rating_numerator' , 'favorite_count' , 'retweet_count' ].mean()\n",
    "print(dog_df[ 'rating_numerator'  ]['golden_retriever'])\n",
    "print(dog_df[ 'favorite_count'  ]['golden_retriever'])\n",
    "print(dog_df[ 'retweet_count'  ]['golden_retriever'])"
   ]
  },
  {
   "cell_type": "code",
   "execution_count": 76,
   "metadata": {
    "scrolled": true
   },
   "outputs": [],
   "source": [
    "top_stage = twitter_master_archive_df['dog_stage'].value_counts()"
   ]
  },
  {
   "cell_type": "code",
   "execution_count": 77,
   "metadata": {},
   "outputs": [
    {
     "data": {
      "image/png": "[encoded data removed]",
      "text/plain": [
       "<matplotlib.figure.Figure at 0x7f22f83db278>"
      ]
     },
     "metadata": {
      "needs_background": "light"
     },
     "output_type": "display_data"
    }
   ],
   "source": [
    "plt.barh(top_stage.index,top_stage , color = 'b')\n",
    "\n",
    "plt.ylabel('dog satge ', fontsize = 14)\n",
    "plt.xlabel('count', fontsize = 12)\n",
    "plt.title('Top dog stage', fontsize = 16)\n",
    "plt.show();\n"
   ]
  },
  {
   "cell_type": "code",
   "execution_count": 78,
   "metadata": {},
   "outputs": [
    {
     "data": {
      "text/html": [
       "<div>\n",
       "<style scoped>\n",
       "    .dataframe tbody tr th:only-of-type {\n",
       "        vertical-align: middle;\n",
       "    }\n",
       "\n",
       "    .dataframe tbody tr th {\n",
       "        vertical-align: top;\n",
       "    }\n",
       "\n",
       "    .dataframe thead th {\n",
       "        text-align: right;\n",
       "    }\n",
       "</style>\n",
       "<table border=\"1\" class=\"dataframe\">\n",
       "  <thead>\n",
       "    <tr style=\"text-align: right;\">\n",
       "      <th></th>\n",
       "      <th>rating_numerator</th>\n",
       "      <th>favorite_count</th>\n",
       "      <th>retweet_count</th>\n",
       "    </tr>\n",
       "    <tr>\n",
       "      <th>dog_stage</th>\n",
       "      <th></th>\n",
       "      <th></th>\n",
       "      <th></th>\n",
       "    </tr>\n",
       "  </thead>\n",
       "  <tbody>\n",
       "    <tr>\n",
       "      <th>puppo</th>\n",
       "      <td>12.041667</td>\n",
       "      <td>21777.083333</td>\n",
       "      <td>6963.291667</td>\n",
       "    </tr>\n",
       "    <tr>\n",
       "      <th>doggo</th>\n",
       "      <td>11.970149</td>\n",
       "      <td>18200.776119</td>\n",
       "      <td>7901.552239</td>\n",
       "    </tr>\n",
       "    <tr>\n",
       "      <th>floofer</th>\n",
       "      <td>11.875000</td>\n",
       "      <td>13701.375000</td>\n",
       "      <td>4776.750000</td>\n",
       "    </tr>\n",
       "    <tr>\n",
       "      <th>pupper</th>\n",
       "      <td>10.702579</td>\n",
       "      <td>7121.895928</td>\n",
       "      <td>2607.312217</td>\n",
       "    </tr>\n",
       "  </tbody>\n",
       "</table>\n",
       "</div>"
      ],
      "text/plain": [
       "           rating_numerator  favorite_count  retweet_count\n",
       "dog_stage                                                 \n",
       "puppo             12.041667    21777.083333    6963.291667\n",
       "doggo             11.970149    18200.776119    7901.552239\n",
       "floofer           11.875000    13701.375000    4776.750000\n",
       "pupper            10.702579     7121.895928    2607.312217"
      ]
     },
     "execution_count": 78,
     "metadata": {},
     "output_type": "execute_result"
    }
   ],
   "source": [
    "dog_df = twitter_master_archive_df.groupby('dog_stage')['rating_numerator' , 'favorite_count' , 'retweet_count' ].mean()\n",
    "dog_df.sort_values( 'rating_numerator'  , ascending = False )"
   ]
  },
  {
   "cell_type": "code",
   "execution_count": 79,
   "metadata": {},
   "outputs": [
    {
     "data": {
      "image/png": "[encoded data removed]",
      "text/plain": [
       "<matplotlib.figure.Figure at 0x7f22f8347550>"
      ]
     },
     "metadata": {
      "needs_background": "light"
     },
     "output_type": "display_data"
    },
    {
     "data": {
      "image/png": "[encoded data removed]",
      "text/plain": [
       "<matplotlib.figure.Figure at 0x7f22f8321cf8>"
      ]
     },
     "metadata": {
      "needs_background": "light"
     },
     "output_type": "display_data"
    },
    {
     "data": {
      "image/png": "[encoded data removed]",
      "text/plain": [
       "<matplotlib.figure.Figure at 0x7f22f830fa58>"
      ]
     },
     "metadata": {
      "needs_background": "light"
     },
     "output_type": "display_data"
    }
   ],
   "source": [
    "#relation between dog stage and  rating , favoriate and stage\n",
    "\n",
    "plt.barh(dog_df.index,dog_df['rating_numerator'] , color = 'y')\n",
    "\n",
    "plt.ylabel('dog satge ', fontsize = 14)\n",
    "plt.xlabel('rating average', fontsize = 12)\n",
    "plt.title('dog stage rating', fontsize = 16)\n",
    "plt.show();\n",
    "\n",
    "plt.barh(dog_df.index,dog_df['favorite_count'] , color = 'y')\n",
    "plt.ylabel('dog satge ', fontsize = 14)\n",
    "plt.xlabel('favorite count', fontsize = 12)\n",
    "plt.title('dog stage favorite', fontsize = 16)\n",
    "plt.show();\n",
    "\n",
    "plt.barh(dog_df.index,dog_df['retweet_count'] , color = 'y')\n",
    "plt.ylabel('dog satge ', fontsize = 14)\n",
    "plt.xlabel('retweet count', fontsize = 12)\n",
    "plt.title('dog stage retweet', fontsize = 16)\n",
    "plt.show();\n"
   ]
  },
  {
   "cell_type": "code",
   "execution_count": 80,
   "metadata": {},
   "outputs": [],
   "source": [
    "common_rate = twitter_master_archive_df['rating_numerator'].value_counts().head(10)"
   ]
  },
  {
   "cell_type": "code",
   "execution_count": 81,
   "metadata": {},
   "outputs": [
    {
     "data": {
      "image/png": "[encoded data removed]",
      "text/plain": [
       "<matplotlib.figure.Figure at 0x7f22f83905f8>"
      ]
     },
     "metadata": {
      "needs_background": "light"
     },
     "output_type": "display_data"
    }
   ],
   "source": [
    "plt.barh(common_rate.index,common_rate , color = 'g')\n",
    "\n",
    "plt.ylabel('rate', fontsize = 14)\n",
    "plt.xlabel('count', fontsize = 12)\n",
    "plt.title('Top common rates', fontsize = 16)\n",
    "plt.show();"
   ]
  },
  {
   "cell_type": "code",
   "execution_count": null,
   "metadata": {},
   "outputs": [],
   "source": []
  },
  {
   "cell_type": "code",
   "execution_count": null,
   "metadata": {},
   "outputs": [],
   "source": []
  },
  {
   "cell_type": "code",
   "execution_count": null,
   "metadata": {},
   "outputs": [],
   "source": []
  }
 ],
 "metadata": {
  "kernelspec": {
   "display_name": "Python 3",
   "language": "python",
   "name": "python3"
  },
  "language_info": {
   "codemirror_mode": {
    "name": "ipython",
    "version": 3
   },
   "file_extension": ".py",
   "mimetype": "text/x-python",
   "name": "python",
   "nbconvert_exporter": "python",
   "pygments_lexer": "ipython3",
   "version": "3.6.3"
  }
 },
 "nbformat": 4,
 "nbformat_minor": 2
}
